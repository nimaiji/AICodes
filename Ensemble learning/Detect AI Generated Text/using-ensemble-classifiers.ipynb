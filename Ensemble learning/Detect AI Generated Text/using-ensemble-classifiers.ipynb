{
 "cells": [
  {
   "cell_type": "code",
   "execution_count": 1,
   "id": "d9c629f6",
   "metadata": {
    "execution": {
     "iopub.execute_input": "2023-11-23T17:10:20.736524Z",
     "iopub.status.busy": "2023-11-23T17:10:20.736161Z",
     "iopub.status.idle": "2023-11-23T17:10:44.611735Z",
     "shell.execute_reply": "2023-11-23T17:10:44.610340Z"
    },
    "papermill": {
     "duration": 23.886001,
     "end_time": "2023-11-23T17:10:44.614490",
     "exception": false,
     "start_time": "2023-11-23T17:10:20.728489",
     "status": "completed"
    },
    "tags": []
   },
   "outputs": [],
   "source": [
    "!pip install -q language-tool-python --no-index --find-links ../input/daigt-misc/\n",
    "!mkdir -p /root/.cache/language_tool_python/\n",
    "!cp -r /kaggle/input/daigt-misc/lang57/LanguageTool-5.7 /root/.cache/language_tool_python/LanguageTool-5.7"
   ]
  },
  {
   "cell_type": "code",
   "execution_count": 2,
   "id": "ff6eec58",
   "metadata": {
    "execution": {
     "iopub.execute_input": "2023-11-23T17:10:44.628718Z",
     "iopub.status.busy": "2023-11-23T17:10:44.628318Z",
     "iopub.status.idle": "2023-11-23T17:10:45.623121Z",
     "shell.execute_reply": "2023-11-23T17:10:45.621946Z"
    },
    "papermill": {
     "duration": 1.00544,
     "end_time": "2023-11-23T17:10:45.625839",
     "exception": false,
     "start_time": "2023-11-23T17:10:44.620399",
     "status": "completed"
    },
    "tags": []
   },
   "outputs": [],
   "source": [
    "# This Python 3 environment comes with many helpful analytics libraries installed\n",
    "# It is defined by the kaggle/python Docker image: https://github.com/kaggle/docker-python\n",
    "# For example, here's several helpful packages to load\n",
    "# import cudf as pd\n",
    "import time\n",
    "import numpy as np # linear algebra\n",
    "import pandas as pd # data processing, CSV file I/O (e.g. pd.read_csv)\n",
    "import string\n",
    "import regex as re\n",
    "# import nltk\n",
    "# from nltk.tokenize import word_tokenize\n",
    "# from nltk.stem import WordNetLemmatizer\n",
    "# from nltk.corpus import wordnet\n",
    "# nltk.download(\"wordnet\")\n",
    "# nltk.download('punkt')\n",
    "# nltk.download(\"omw-1.4\")\n",
    "# Input data files are available in the read-only \"../input/\" directory\n",
    "# For example, running this (by clicking run or pressing Shift+Enter) will list all files under the input directory\n",
    "\n",
    "import os\n",
    "# for dirname, _, filenames in os.walk('/kaggle/input'):\n",
    "#     for filename in filenames:\n",
    "#         print(os.path.join(dirname, filename))\n",
    "\n",
    "# You can write up to 20GB to the current directory (/kaggle/working/) that gets preserved as output when you create a version using \"Save & Run All\" \n",
    "# You can also write temporary files to /kaggle/temp/, but they won't be saved outside of the current session"
   ]
  },
  {
   "cell_type": "code",
   "execution_count": 3,
   "id": "fd14c1ad",
   "metadata": {
    "execution": {
     "iopub.execute_input": "2023-11-23T17:10:45.638803Z",
     "iopub.status.busy": "2023-11-23T17:10:45.638269Z",
     "iopub.status.idle": "2023-11-23T17:10:47.931332Z",
     "shell.execute_reply": "2023-11-23T17:10:47.930191Z"
    },
    "papermill": {
     "duration": 2.302676,
     "end_time": "2023-11-23T17:10:47.933980",
     "exception": false,
     "start_time": "2023-11-23T17:10:45.631304",
     "status": "completed"
    },
    "tags": []
   },
   "outputs": [],
   "source": [
    "from sklearn.linear_model import LogisticRegression\n",
    "import xgboost as xgb\n",
    "from xgboost import XGBClassifier\n",
    "from sklearn.feature_extraction.text import TfidfVectorizer\n",
    "from sklearn.ensemble import VotingClassifier\n",
    "from sklearn.linear_model import SGDClassifier\n",
    "from sklearn.svm import SVC\n",
    "from sklearn.model_selection import GridSearchCV, train_test_split\n",
    "from sklearn.metrics import make_scorer, accuracy_score\n",
    "from scipy.sparse import csr_matrix, vstack, hstack\n",
    "import language_tool_python\n",
    "from concurrent.futures import ProcessPoolExecutor\n",
    "from sklearn.metrics import accuracy_score"
   ]
  },
  {
   "cell_type": "code",
   "execution_count": 4,
   "id": "54b808e3",
   "metadata": {
    "execution": {
     "iopub.execute_input": "2023-11-23T17:10:47.947577Z",
     "iopub.status.busy": "2023-11-23T17:10:47.947156Z",
     "iopub.status.idle": "2023-11-23T17:10:51.524955Z",
     "shell.execute_reply": "2023-11-23T17:10:51.523820Z"
    },
    "papermill": {
     "duration": 3.587634,
     "end_time": "2023-11-23T17:10:51.527767",
     "exception": false,
     "start_time": "2023-11-23T17:10:47.940133",
     "status": "completed"
    },
    "tags": []
   },
   "outputs": [],
   "source": [
    "# Dataset from the competition\n",
    "train_essays_base = pd.read_csv('/kaggle/input/llm-detect-ai-generated-text/train_essays.csv')\n",
    "test_essays_base = pd.read_csv('/kaggle/input/llm-detect-ai-generated-text/test_essays.csv')\n",
    "train_prompts_base = pd.read_csv('/kaggle/input/llm-detect-ai-generated-text/train_prompts.csv')\n",
    "\n",
    "# Dataset from argugpt\n",
    "argu_base = pd.read_csv('/kaggle/input/argugpt/argugpt.csv')\n",
    "\n",
    "# Dataset from daigt\n",
    "# daigt_1_base = pd.read_csv('/kaggle/input/daigt-proper-train-dataset/train_drcat_01.csv')\n",
    "# daigt_2_base = pd.read_csv('/kaggle/input/daigt-proper-train-dataset/train_drcat_02.csv')\n",
    "# daigt_3_base = pd.read_csv('/kaggle/input/daigt-proper-train-dataset/train_drcat_03.csv')\n",
    "# daigt_4_base = pd.read_csv('/kaggle/input/daigt-proper-train-dataset/train_drcat_04.csv')\n",
    "\n",
    "# Dataset from external daigt\n",
    "# xdaigt_base = pd.read_csv('/kaggle/input/daigt-external-dataset/daigt_external_dataset.csv')\n",
    "\n",
    "# Dataset from daigt v2\n",
    "daigtv2_base = pd.read_csv('/kaggle/input/daigt-v2-train-dataset/train_v2_drcat_02.csv')\n",
    "\n",
    "# Dataset from hello claude\n",
    "# hello_base = pd.read_csv('/kaggle/input/hello-claude-1000-essays-from-anthropic/persuade15_claude_instant1.csv')\n",
    "\n",
    "# Dataset from Rdizzl3\n",
    "llm_base = pd.read_csv('/kaggle/input/llm-7-prompt-training-dataset/train_essays_RDizzl3_seven_v2.csv')\n"
   ]
  },
  {
   "cell_type": "code",
   "execution_count": 5,
   "id": "78dac70e",
   "metadata": {
    "execution": {
     "iopub.execute_input": "2023-11-23T17:10:51.540818Z",
     "iopub.status.busy": "2023-11-23T17:10:51.540415Z",
     "iopub.status.idle": "2023-11-23T17:10:51.597336Z",
     "shell.execute_reply": "2023-11-23T17:10:51.596223Z"
    },
    "papermill": {
     "duration": 0.066832,
     "end_time": "2023-11-23T17:10:51.600288",
     "exception": false,
     "start_time": "2023-11-23T17:10:51.533456",
     "status": "completed"
    },
    "tags": []
   },
   "outputs": [
    {
     "name": "stderr",
     "output_type": "stream",
     "text": [
      "/tmp/ipykernel_20/1124928610.py:4: SettingWithCopyWarning: \n",
      "A value is trying to be set on a copy of a slice from a DataFrame.\n",
      "Try using .loc[row_indexer,col_indexer] = value instead\n",
      "\n",
      "See the caveats in the documentation: https://pandas.pydata.org/pandas-docs/stable/user_guide/indexing.html#returning-a-view-versus-a-copy\n",
      "  argu['generated'] = 1\n",
      "/tmp/ipykernel_20/1124928610.py:21: SettingWithCopyWarning: \n",
      "A value is trying to be set on a copy of a slice from a DataFrame\n",
      "\n",
      "See the caveats in the documentation: https://pandas.pydata.org/pandas-docs/stable/user_guide/indexing.html#returning-a-view-versus-a-copy\n",
      "  daigtv2.rename(columns={'label':'generated'}, inplace=True)\n"
     ]
    }
   ],
   "source": [
    "train_esssays = train_essays_base[['text', 'generated']]\n",
    "\n",
    "argu = argu_base[['text']]\n",
    "argu['generated'] = 1\n",
    "\n",
    "# daigt_1 = daigt_1_base[['text', 'label']]\n",
    "# daigt_1.rename(columns={'label':'generated'}, inplace=True)\n",
    "# daigt_2 = daigt_2_base[['text', 'label']]\n",
    "# daigt_2.rename(columns={'label':'generated'}, inplace=True)\n",
    "# daigt_3 = daigt_3_base[['text', 'label']]\n",
    "# daigt_3.rename(columns={'label':'generated'}, inplace=True)\n",
    "# daigt_4 = daigt_4_base[['text', 'label']]\n",
    "# daigt_4.rename(columns={'label':'generated'}, inplace=True)\n",
    "\n",
    "train_ = daigtv2_base[daigtv2_base.RDizzl3_seven == False].reset_index(drop=True)\n",
    "train_ = daigtv2_base[daigtv2_base[\"label\"]==1].sample(8000)\n",
    "daigtv2_base = daigtv2_base[daigtv2_base.RDizzl3_seven == True].reset_index(drop=True)\n",
    "daigtv2_base = pd.concat([daigtv2_base, train_])\n",
    "\n",
    "daigtv2 = daigtv2_base[['text', 'label']]\n",
    "daigtv2.rename(columns={'label':'generated'}, inplace=True)\n",
    "\n",
    "\n",
    "# hello = hello_base[['essay_text']]\n",
    "# hello.rename(columns={'essay_text':'text'}, inplace=True)\n",
    "# hello['generated'] = 1\n",
    "\n",
    "llm = llm_base[['text', 'label']]\n",
    "llm.rename(columns={'label': 'generated'}, inplace=True)"
   ]
  },
  {
   "cell_type": "code",
   "execution_count": 6,
   "id": "440a3417",
   "metadata": {
    "execution": {
     "iopub.execute_input": "2023-11-23T17:10:51.613648Z",
     "iopub.status.busy": "2023-11-23T17:10:51.613254Z",
     "iopub.status.idle": "2023-11-23T17:11:01.034506Z",
     "shell.execute_reply": "2023-11-23T17:11:01.033292Z"
    },
    "papermill": {
     "duration": 9.431231,
     "end_time": "2023-11-23T17:11:01.037175",
     "exception": false,
     "start_time": "2023-11-23T17:10:51.605944",
     "status": "completed"
    },
    "tags": []
   },
   "outputs": [],
   "source": [
    "# df = daigtv2\n",
    "df = pd.concat([\n",
    "    train_esssays,\n",
    "    argu,\n",
    "    llm,\n",
    "    daigtv2\n",
    "])\n",
    "\n",
    "df['text'] = df['text'].str.replace('\\n', ' ')\n",
    "df['text'] = df['text'].str.replace('\\\"', '')\n",
    "df['text'] = df['text'].str.replace('\\'', '')\n",
    "df['text'] = df['text'].str.replace(',', ' ')\n",
    "df['text'] = df['text'].str.replace('?', ' ')\n",
    "df['text'] = df['text'].str.replace('!', ' ')\n",
    "df['text'] = df['text'].str.replace('\\\\', '')\n",
    "df['text'] = df['text'].str.replace('\\\"', '')\n",
    "df['text'] = df['text'].str.replace(r'<[^>]+>', '', regex=True)\n",
    "df['text'] = df['text'].str.replace(r'\\s+', ' ', regex=True)\n",
    "df['text'] = df['text'].str.lower()\n",
    "df['text'] = df['text'].str.replace(f'[{string.punctuation}]', '', regex=True)\n"
   ]
  },
  {
   "cell_type": "code",
   "execution_count": 7,
   "id": "67594ae3",
   "metadata": {
    "execution": {
     "iopub.execute_input": "2023-11-23T17:11:01.050741Z",
     "iopub.status.busy": "2023-11-23T17:11:01.050309Z",
     "iopub.status.idle": "2023-11-23T17:11:01.064206Z",
     "shell.execute_reply": "2023-11-23T17:11:01.063138Z"
    },
    "papermill": {
     "duration": 0.02347,
     "end_time": "2023-11-23T17:11:01.066381",
     "exception": false,
     "start_time": "2023-11-23T17:11:01.042911",
     "status": "completed"
    },
    "tags": []
   },
   "outputs": [
    {
     "data": {
      "text/plain": [
       "generated\n",
       "0    29872\n",
       "1    21245\n",
       "Name: count, dtype: int64"
      ]
     },
     "execution_count": 7,
     "metadata": {},
     "output_type": "execute_result"
    }
   ],
   "source": [
    "df['generated'].value_counts()"
   ]
  },
  {
   "cell_type": "code",
   "execution_count": 8,
   "id": "c58a78a7",
   "metadata": {
    "execution": {
     "iopub.execute_input": "2023-11-23T17:11:01.079954Z",
     "iopub.status.busy": "2023-11-23T17:11:01.079191Z",
     "iopub.status.idle": "2023-11-23T17:11:01.084310Z",
     "shell.execute_reply": "2023-11-23T17:11:01.083276Z"
    },
    "papermill": {
     "duration": 0.014393,
     "end_time": "2023-11-23T17:11:01.086471",
     "exception": false,
     "start_time": "2023-11-23T17:11:01.072078",
     "status": "completed"
    },
    "tags": []
   },
   "outputs": [],
   "source": [
    "NUMBER_OF_SAMPLES = None\n",
    "NUMBER_OF_MODELS = None"
   ]
  },
  {
   "cell_type": "code",
   "execution_count": 9,
   "id": "df296d2f",
   "metadata": {
    "execution": {
     "iopub.execute_input": "2023-11-23T17:11:01.100202Z",
     "iopub.status.busy": "2023-11-23T17:11:01.099769Z",
     "iopub.status.idle": "2023-11-23T17:11:01.160323Z",
     "shell.execute_reply": "2023-11-23T17:11:01.158920Z"
    },
    "papermill": {
     "duration": 0.070202,
     "end_time": "2023-11-23T17:11:01.162804",
     "exception": false,
     "start_time": "2023-11-23T17:11:01.092602",
     "status": "completed"
    },
    "tags": []
   },
   "outputs": [
    {
     "name": "stdout",
     "output_type": "stream",
     "text": [
      "<class 'pandas.core.frame.DataFrame'>\n",
      "Index: 51117 entries, 0 to 39407\n",
      "Data columns (total 2 columns):\n",
      " #   Column     Non-Null Count  Dtype \n",
      "---  ------     --------------  ----- \n",
      " 0   text       51117 non-null  object\n",
      " 1   generated  51117 non-null  int64 \n",
      "dtypes: int64(1), object(1)\n",
      "memory usage: 1.2+ MB\n"
     ]
    }
   ],
   "source": [
    "df = df.dropna()\n",
    "# negative = df[df['generated'] == 0]\n",
    "# positive = df[df['generated'] == 1]\n",
    "# df = pd.concat([negative.sample(NUMBER_OF_SAMPLES), positive.sample(NUMBER_OF_SAMPLES)])\n",
    "# df = df.sample(NUMBER_OF_SAMPLES)\n",
    "df.info()"
   ]
  },
  {
   "cell_type": "code",
   "execution_count": 10,
   "id": "a72c7e55",
   "metadata": {
    "execution": {
     "iopub.execute_input": "2023-11-23T17:11:01.180189Z",
     "iopub.status.busy": "2023-11-23T17:11:01.178998Z",
     "iopub.status.idle": "2023-11-23T17:11:01.198908Z",
     "shell.execute_reply": "2023-11-23T17:11:01.197938Z"
    },
    "papermill": {
     "duration": 0.032016,
     "end_time": "2023-11-23T17:11:01.201323",
     "exception": false,
     "start_time": "2023-11-23T17:11:01.169307",
     "status": "completed"
    },
    "tags": []
   },
   "outputs": [],
   "source": [
    "class VClassifier():\n",
    "\n",
    "    def __init__(self, number_of_samples, number_of_models):\n",
    "        self.seed = 2023\n",
    "        self.seed_everything(self.seed)\n",
    "        self.tool = language_tool_python.LanguageTool('en-US')\n",
    "        self.nos = number_of_samples\n",
    "        self.nom = number_of_models\n",
    "        self.models = []\n",
    "        self.voting = None\n",
    "        self.trained = False\n",
    "        \n",
    "    def seed_everything(self, seed=2023):\n",
    "        import random\n",
    "        random.seed(seed)\n",
    "        np.random.seed(seed)\n",
    "\n",
    "    def correct_sentence(self, sentence):\n",
    "        return self.tool.correct(sentence)\n",
    "\n",
    "    def how_many_typos(self, sentence):\n",
    "        return len(self.tool.check(sentence))\n",
    "\n",
    "    def insert_df(self, df, x_column, y_column, test):\n",
    "        self.df = df\n",
    "        self.x = x_column\n",
    "        self.y = y_column\n",
    "        if test is not None:\n",
    "            self.generate_vectorizer(test)\n",
    "        else:\n",
    "            self.generate_vectorizer(df)\n",
    "#         self.correct_df()\n",
    "\n",
    "    def correct_df(self, max_workers=2):\n",
    "        with ProcessPoolExecutor(max_workers=max_workers) as executor:\n",
    "            self.df[self.x] = self.df[self.x].apply(self.correct_sentence)\n",
    "\n",
    "    def generate_vectorizer(self, df,  max_feature=None, n_grams=5):\n",
    "        tfidf_vectorizer = TfidfVectorizer(sublinear_tf=True,\n",
    "                                             ngram_range=(1, 5),\n",
    "                                             tokenizer=lambda x: re.findall(r'[^\\W]+', x),\n",
    "                                             token_pattern=None,\n",
    "                                             strip_accents='unicode',\n",
    "                                             )\n",
    "        self.tfidf = tfidf_vectorizer.fit(df[self.x])\n",
    "\n",
    "    def create_sgd(self, max_iter=5000, tol=1e-3, class_weight=None, early_stopping=False):\n",
    "        model = SGDClassifier(max_iter=max_iter,\n",
    "                                  tol=tol,\n",
    "                                  early_stopping= early_stopping,\n",
    "                                  class_weight=class_weight,\n",
    "                                  loss=\"modified_huber\",\n",
    "                                  verbose=1)\n",
    "        self.models.append(model)\n",
    "        print('SGD model creation finished') \n",
    "        \n",
    "    def create_lr(self):\n",
    "        model = LogisticRegression()\n",
    "        self.models.append(model)\n",
    "        print('Logistic Regression model creation finished') \n",
    "\n",
    "    def generate_voting(self):\n",
    "        estimators = []\n",
    "#         weights = [0.01, 0.99, 0.99, 0.99]\n",
    "#         self.create_lr()\n",
    "        self.create_sgd()\n",
    "        self.create_sgd(class_weight='balanced')\n",
    "        self.create_sgd(tol=5e-4, max_iter=10000, early_stopping=True)\n",
    "#         self.create_sgd(class_weight='balanced')\n",
    "#         self.create_sgd()\n",
    "\n",
    "        if self.nom is None:\n",
    "            self.nom = len(self.models)\n",
    "        \n",
    "        for idx, model in enumerate(self.models):\n",
    "            estimators.append(('model' + str(idx), model))\n",
    "\n",
    "        self.voting = VotingClassifier(estimators=estimators, voting='soft')\n",
    "        print('Voting generated')\n",
    "        return self.voting\n",
    "\n",
    "    def fit_voting(self):\n",
    "        if self.nos is None:\n",
    "            self.nos = len(self.df)\n",
    "        samples = self.df.sample(self.nos)\n",
    "        train_x, test_x, train_y, test_y = train_test_split(samples[self.x], samples[self.y], test_size=0.2)\n",
    "        if self.voting:\n",
    "            train_x = self.tfidf.transform(train_x)\n",
    "            self.voting.fit(train_x, train_y)\n",
    "            self.trained = True\n",
    "            test_x = self.tfidf.transform(test_x)\n",
    "            predicted = self.voting.predict_proba(test_x)\n",
    "            # Generate accuracy\n",
    "#             accuracy = accuracy_score(test_y, predicted[:,1])\n",
    "#             print(f'Voting Classifier Accuracy: {accuracy}')\n",
    "        else:\n",
    "            print('No voting available!')\n",
    "\n",
    "        print('fitting finished')\n",
    "\n",
    "    def predict(self, test):\n",
    "        if self.trained:\n",
    "            predictions = self.voting.predict_proba(test)\n",
    "        else:\n",
    "            print('You must train your models first!')\n",
    "\n",
    "        return predictions"
   ]
  },
  {
   "cell_type": "code",
   "execution_count": 11,
   "id": "3ca6379e",
   "metadata": {
    "execution": {
     "iopub.execute_input": "2023-11-23T17:11:01.215639Z",
     "iopub.status.busy": "2023-11-23T17:11:01.214995Z",
     "iopub.status.idle": "2023-11-23T17:11:03.667956Z",
     "shell.execute_reply": "2023-11-23T17:11:03.666767Z"
    },
    "papermill": {
     "duration": 2.4642,
     "end_time": "2023-11-23T17:11:03.671378",
     "exception": false,
     "start_time": "2023-11-23T17:11:01.207178",
     "status": "completed"
    },
    "tags": []
   },
   "outputs": [],
   "source": [
    "clf = VClassifier(NUMBER_OF_SAMPLES, NUMBER_OF_MODELS)\n",
    "clf.insert_df(df, 'text', 'generated', test_essays_base)"
   ]
  },
  {
   "cell_type": "code",
   "execution_count": 12,
   "id": "705f489c",
   "metadata": {
    "execution": {
     "iopub.execute_input": "2023-11-23T17:11:03.685774Z",
     "iopub.status.busy": "2023-11-23T17:11:03.685371Z",
     "iopub.status.idle": "2023-11-23T17:11:03.720940Z",
     "shell.execute_reply": "2023-11-23T17:11:03.719790Z"
    },
    "papermill": {
     "duration": 0.045076,
     "end_time": "2023-11-23T17:11:03.723357",
     "exception": false,
     "start_time": "2023-11-23T17:11:03.678281",
     "status": "completed"
    },
    "tags": []
   },
   "outputs": [
    {
     "name": "stdout",
     "output_type": "stream",
     "text": [
      "SGD model creation finished\n",
      "SGD model creation finished\n",
      "SGD model creation finished\n",
      "Voting generated\n"
     ]
    },
    {
     "data": {
      "text/html": [
       "<style>#sk-container-id-1 {color: black;background-color: white;}#sk-container-id-1 pre{padding: 0;}#sk-container-id-1 div.sk-toggleable {background-color: white;}#sk-container-id-1 label.sk-toggleable__label {cursor: pointer;display: block;width: 100%;margin-bottom: 0;padding: 0.3em;box-sizing: border-box;text-align: center;}#sk-container-id-1 label.sk-toggleable__label-arrow:before {content: \"▸\";float: left;margin-right: 0.25em;color: #696969;}#sk-container-id-1 label.sk-toggleable__label-arrow:hover:before {color: black;}#sk-container-id-1 div.sk-estimator:hover label.sk-toggleable__label-arrow:before {color: black;}#sk-container-id-1 div.sk-toggleable__content {max-height: 0;max-width: 0;overflow: hidden;text-align: left;background-color: #f0f8ff;}#sk-container-id-1 div.sk-toggleable__content pre {margin: 0.2em;color: black;border-radius: 0.25em;background-color: #f0f8ff;}#sk-container-id-1 input.sk-toggleable__control:checked~div.sk-toggleable__content {max-height: 200px;max-width: 100%;overflow: auto;}#sk-container-id-1 input.sk-toggleable__control:checked~label.sk-toggleable__label-arrow:before {content: \"▾\";}#sk-container-id-1 div.sk-estimator input.sk-toggleable__control:checked~label.sk-toggleable__label {background-color: #d4ebff;}#sk-container-id-1 div.sk-label input.sk-toggleable__control:checked~label.sk-toggleable__label {background-color: #d4ebff;}#sk-container-id-1 input.sk-hidden--visually {border: 0;clip: rect(1px 1px 1px 1px);clip: rect(1px, 1px, 1px, 1px);height: 1px;margin: -1px;overflow: hidden;padding: 0;position: absolute;width: 1px;}#sk-container-id-1 div.sk-estimator {font-family: monospace;background-color: #f0f8ff;border: 1px dotted black;border-radius: 0.25em;box-sizing: border-box;margin-bottom: 0.5em;}#sk-container-id-1 div.sk-estimator:hover {background-color: #d4ebff;}#sk-container-id-1 div.sk-parallel-item::after {content: \"\";width: 100%;border-bottom: 1px solid gray;flex-grow: 1;}#sk-container-id-1 div.sk-label:hover label.sk-toggleable__label {background-color: #d4ebff;}#sk-container-id-1 div.sk-serial::before {content: \"\";position: absolute;border-left: 1px solid gray;box-sizing: border-box;top: 0;bottom: 0;left: 50%;z-index: 0;}#sk-container-id-1 div.sk-serial {display: flex;flex-direction: column;align-items: center;background-color: white;padding-right: 0.2em;padding-left: 0.2em;position: relative;}#sk-container-id-1 div.sk-item {position: relative;z-index: 1;}#sk-container-id-1 div.sk-parallel {display: flex;align-items: stretch;justify-content: center;background-color: white;position: relative;}#sk-container-id-1 div.sk-item::before, #sk-container-id-1 div.sk-parallel-item::before {content: \"\";position: absolute;border-left: 1px solid gray;box-sizing: border-box;top: 0;bottom: 0;left: 50%;z-index: -1;}#sk-container-id-1 div.sk-parallel-item {display: flex;flex-direction: column;z-index: 1;position: relative;background-color: white;}#sk-container-id-1 div.sk-parallel-item:first-child::after {align-self: flex-end;width: 50%;}#sk-container-id-1 div.sk-parallel-item:last-child::after {align-self: flex-start;width: 50%;}#sk-container-id-1 div.sk-parallel-item:only-child::after {width: 0;}#sk-container-id-1 div.sk-dashed-wrapped {border: 1px dashed gray;margin: 0 0.4em 0.5em 0.4em;box-sizing: border-box;padding-bottom: 0.4em;background-color: white;}#sk-container-id-1 div.sk-label label {font-family: monospace;font-weight: bold;display: inline-block;line-height: 1.2em;}#sk-container-id-1 div.sk-label-container {text-align: center;}#sk-container-id-1 div.sk-container {/* jupyter's `normalize.less` sets `[hidden] { display: none; }` but bootstrap.min.css set `[hidden] { display: none !important; }` so we also need the `!important` here to be able to override the default hidden behavior on the sphinx rendered scikit-learn.org. See: https://github.com/scikit-learn/scikit-learn/issues/21755 */display: inline-block !important;position: relative;}#sk-container-id-1 div.sk-text-repr-fallback {display: none;}</style><div id=\"sk-container-id-1\" class=\"sk-top-container\"><div class=\"sk-text-repr-fallback\"><pre>VotingClassifier(estimators=[(&#x27;model0&#x27;,\n",
       "                              SGDClassifier(loss=&#x27;modified_huber&#x27;,\n",
       "                                            max_iter=5000, verbose=1)),\n",
       "                             (&#x27;model1&#x27;,\n",
       "                              SGDClassifier(class_weight=&#x27;balanced&#x27;,\n",
       "                                            loss=&#x27;modified_huber&#x27;,\n",
       "                                            max_iter=5000, verbose=1)),\n",
       "                             (&#x27;model2&#x27;,\n",
       "                              SGDClassifier(early_stopping=True,\n",
       "                                            loss=&#x27;modified_huber&#x27;,\n",
       "                                            max_iter=10000, tol=0.0005,\n",
       "                                            verbose=1))],\n",
       "                 voting=&#x27;soft&#x27;)</pre><b>In a Jupyter environment, please rerun this cell to show the HTML representation or trust the notebook. <br />On GitHub, the HTML representation is unable to render, please try loading this page with nbviewer.org.</b></div><div class=\"sk-container\" hidden><div class=\"sk-item sk-dashed-wrapped\"><div class=\"sk-label-container\"><div class=\"sk-label sk-toggleable\"><input class=\"sk-toggleable__control sk-hidden--visually\" id=\"sk-estimator-id-1\" type=\"checkbox\" ><label for=\"sk-estimator-id-1\" class=\"sk-toggleable__label sk-toggleable__label-arrow\">VotingClassifier</label><div class=\"sk-toggleable__content\"><pre>VotingClassifier(estimators=[(&#x27;model0&#x27;,\n",
       "                              SGDClassifier(loss=&#x27;modified_huber&#x27;,\n",
       "                                            max_iter=5000, verbose=1)),\n",
       "                             (&#x27;model1&#x27;,\n",
       "                              SGDClassifier(class_weight=&#x27;balanced&#x27;,\n",
       "                                            loss=&#x27;modified_huber&#x27;,\n",
       "                                            max_iter=5000, verbose=1)),\n",
       "                             (&#x27;model2&#x27;,\n",
       "                              SGDClassifier(early_stopping=True,\n",
       "                                            loss=&#x27;modified_huber&#x27;,\n",
       "                                            max_iter=10000, tol=0.0005,\n",
       "                                            verbose=1))],\n",
       "                 voting=&#x27;soft&#x27;)</pre></div></div></div><div class=\"sk-parallel\"><div class=\"sk-parallel-item\"><div class=\"sk-item\"><div class=\"sk-label-container\"><div class=\"sk-label sk-toggleable\"><label>model0</label></div></div><div class=\"sk-serial\"><div class=\"sk-item\"><div class=\"sk-estimator sk-toggleable\"><input class=\"sk-toggleable__control sk-hidden--visually\" id=\"sk-estimator-id-2\" type=\"checkbox\" ><label for=\"sk-estimator-id-2\" class=\"sk-toggleable__label sk-toggleable__label-arrow\">SGDClassifier</label><div class=\"sk-toggleable__content\"><pre>SGDClassifier(loss=&#x27;modified_huber&#x27;, max_iter=5000, verbose=1)</pre></div></div></div></div></div></div><div class=\"sk-parallel-item\"><div class=\"sk-item\"><div class=\"sk-label-container\"><div class=\"sk-label sk-toggleable\"><label>model1</label></div></div><div class=\"sk-serial\"><div class=\"sk-item\"><div class=\"sk-estimator sk-toggleable\"><input class=\"sk-toggleable__control sk-hidden--visually\" id=\"sk-estimator-id-3\" type=\"checkbox\" ><label for=\"sk-estimator-id-3\" class=\"sk-toggleable__label sk-toggleable__label-arrow\">SGDClassifier</label><div class=\"sk-toggleable__content\"><pre>SGDClassifier(class_weight=&#x27;balanced&#x27;, loss=&#x27;modified_huber&#x27;, max_iter=5000,\n",
       "              verbose=1)</pre></div></div></div></div></div></div><div class=\"sk-parallel-item\"><div class=\"sk-item\"><div class=\"sk-label-container\"><div class=\"sk-label sk-toggleable\"><label>model2</label></div></div><div class=\"sk-serial\"><div class=\"sk-item\"><div class=\"sk-estimator sk-toggleable\"><input class=\"sk-toggleable__control sk-hidden--visually\" id=\"sk-estimator-id-4\" type=\"checkbox\" ><label for=\"sk-estimator-id-4\" class=\"sk-toggleable__label sk-toggleable__label-arrow\">SGDClassifier</label><div class=\"sk-toggleable__content\"><pre>SGDClassifier(early_stopping=True, loss=&#x27;modified_huber&#x27;, max_iter=10000,\n",
       "              tol=0.0005, verbose=1)</pre></div></div></div></div></div></div></div></div></div></div>"
      ],
      "text/plain": [
       "VotingClassifier(estimators=[('model0',\n",
       "                              SGDClassifier(loss='modified_huber',\n",
       "                                            max_iter=5000, verbose=1)),\n",
       "                             ('model1',\n",
       "                              SGDClassifier(class_weight='balanced',\n",
       "                                            loss='modified_huber',\n",
       "                                            max_iter=5000, verbose=1)),\n",
       "                             ('model2',\n",
       "                              SGDClassifier(early_stopping=True,\n",
       "                                            loss='modified_huber',\n",
       "                                            max_iter=10000, tol=0.0005,\n",
       "                                            verbose=1))],\n",
       "                 voting='soft')"
      ]
     },
     "execution_count": 12,
     "metadata": {},
     "output_type": "execute_result"
    }
   ],
   "source": [
    "clf.generate_voting()"
   ]
  },
  {
   "cell_type": "code",
   "execution_count": 13,
   "id": "4ed0cb7f",
   "metadata": {
    "execution": {
     "iopub.execute_input": "2023-11-23T17:11:03.737455Z",
     "iopub.status.busy": "2023-11-23T17:11:03.737042Z",
     "iopub.status.idle": "2023-11-23T17:12:17.269360Z",
     "shell.execute_reply": "2023-11-23T17:12:17.268279Z"
    },
    "papermill": {
     "duration": 73.541877,
     "end_time": "2023-11-23T17:12:17.271797",
     "exception": false,
     "start_time": "2023-11-23T17:11:03.729920",
     "status": "completed"
    },
    "tags": []
   },
   "outputs": [
    {
     "name": "stdout",
     "output_type": "stream",
     "text": [
      "-- Epoch 1\n",
      "Norm: 1.06, NNZs: 1, Bias: -0.218876, T: 40893, Avg. loss: 0.980133\n",
      "Total training time: 0.00 seconds.\n",
      "-- Epoch 2\n",
      "Norm: 0.96, NNZs: 1, Bias: -0.189893, T: 81786, Avg. loss: 0.971669\n",
      "Total training time: 0.00 seconds.\n",
      "-- Epoch 3\n",
      "Norm: 0.93, NNZs: 1, Bias: -0.107912, T: 122679, Avg. loss: 0.971428\n",
      "Total training time: 0.01 seconds.\n",
      "-- Epoch 4\n",
      "Norm: 0.94, NNZs: 1, Bias: -0.163192, T: 163572, Avg. loss: 0.971185\n",
      "Total training time: 0.01 seconds.\n",
      "-- Epoch 5\n",
      "Norm: 0.93, NNZs: 1, Bias: -0.173270, T: 204465, Avg. loss: 0.970867\n",
      "Total training time: 0.01 seconds.\n",
      "-- Epoch 6\n",
      "Norm: 0.93, NNZs: 1, Bias: -0.181560, T: 245358, Avg. loss: 0.970861\n",
      "Total training time: 0.01 seconds.\n",
      "-- Epoch 7\n",
      "Norm: 0.94, NNZs: 1, Bias: -0.191481, T: 286251, Avg. loss: 0.970829\n",
      "Total training time: 0.01 seconds.\n",
      "Convergence after 7 epochs took 0.01 seconds\n",
      "-- Epoch 1\n",
      "Norm: 0.91, NNZs: 1, Bias: -0.035391, T: 40893, Avg. loss: 1.008661\n",
      "Total training time: 0.00 seconds.\n",
      "-- Epoch 2\n",
      "Norm: 0.88, NNZs: 1, Bias: -0.041003, T: 81786, Avg. loss: 1.001490\n",
      "Total training time: 0.00 seconds.\n",
      "-- Epoch 3\n",
      "Norm: 0.83, NNZs: 1, Bias: 0.009465, T: 122679, Avg. loss: 1.000337\n",
      "Total training time: 0.01 seconds.\n",
      "-- Epoch 4\n",
      "Norm: 0.82, NNZs: 1, Bias: 0.006123, T: 163572, Avg. loss: 1.000624\n",
      "Total training time: 0.01 seconds.\n",
      "-- Epoch 5\n",
      "Norm: 0.83, NNZs: 1, Bias: -0.002767, T: 204465, Avg. loss: 1.000407\n",
      "Total training time: 0.01 seconds.\n",
      "-- Epoch 6\n",
      "Norm: 0.84, NNZs: 1, Bias: -0.025635, T: 245358, Avg. loss: 1.000441\n",
      "Total training time: 0.01 seconds.\n",
      "-- Epoch 7\n",
      "Norm: 0.84, NNZs: 1, Bias: -0.001758, T: 286251, Avg. loss: 1.000091\n",
      "Total training time: 0.01 seconds.\n",
      "-- Epoch 8\n",
      "Norm: 0.84, NNZs: 1, Bias: 0.000024, T: 327144, Avg. loss: 1.000167\n",
      "Total training time: 0.02 seconds.\n",
      "Convergence after 8 epochs took 0.02 seconds\n",
      "-- Epoch 1\n",
      "Norm: 0.86, NNZs: 1, Bias: -0.159053, T: 36803, Avg. loss: 0.980438\n",
      "Total training time: 0.00 seconds.\n",
      "-- Epoch 2\n",
      "Norm: 0.86, NNZs: 1, Bias: -0.152275, T: 73606, Avg. loss: 0.972344\n",
      "Total training time: 0.01 seconds.\n",
      "-- Epoch 3\n",
      "Norm: 1.00, NNZs: 1, Bias: -0.181943, T: 110409, Avg. loss: 0.971262\n",
      "Total training time: 0.01 seconds.\n",
      "-- Epoch 4\n",
      "Norm: 0.99, NNZs: 1, Bias: -0.167207, T: 147212, Avg. loss: 0.971202\n",
      "Total training time: 0.01 seconds.\n",
      "-- Epoch 5\n",
      "Norm: 0.97, NNZs: 1, Bias: -0.151222, T: 184015, Avg. loss: 0.970984\n",
      "Total training time: 0.02 seconds.\n",
      "-- Epoch 6\n",
      "Norm: 0.96, NNZs: 1, Bias: -0.152199, T: 220818, Avg. loss: 0.970984\n",
      "Total training time: 0.02 seconds.\n",
      "Convergence after 6 epochs took 0.02 seconds\n",
      "fitting finished\n"
     ]
    }
   ],
   "source": [
    "clf.fit_voting()"
   ]
  },
  {
   "cell_type": "code",
   "execution_count": 14,
   "id": "1b4e05cb",
   "metadata": {
    "execution": {
     "iopub.execute_input": "2023-11-23T17:12:17.286975Z",
     "iopub.status.busy": "2023-11-23T17:12:17.285860Z",
     "iopub.status.idle": "2023-11-23T17:12:17.294081Z",
     "shell.execute_reply": "2023-11-23T17:12:17.292948Z"
    },
    "papermill": {
     "duration": 0.018476,
     "end_time": "2023-11-23T17:12:17.296699",
     "exception": false,
     "start_time": "2023-11-23T17:12:17.278223",
     "status": "completed"
    },
    "tags": []
   },
   "outputs": [],
   "source": [
    "test_essays = clf.tfidf.transform(test_essays_base['text'])"
   ]
  },
  {
   "cell_type": "code",
   "execution_count": 15,
   "id": "dbbb3d1e",
   "metadata": {
    "execution": {
     "iopub.execute_input": "2023-11-23T17:12:17.311960Z",
     "iopub.status.busy": "2023-11-23T17:12:17.311186Z",
     "iopub.status.idle": "2023-11-23T17:12:17.317281Z",
     "shell.execute_reply": "2023-11-23T17:12:17.316068Z"
    },
    "papermill": {
     "duration": 0.016372,
     "end_time": "2023-11-23T17:12:17.319471",
     "exception": false,
     "start_time": "2023-11-23T17:12:17.303099",
     "status": "completed"
    },
    "tags": []
   },
   "outputs": [],
   "source": [
    "res = clf.predict(test_essays)"
   ]
  },
  {
   "cell_type": "code",
   "execution_count": 16,
   "id": "18cec85d",
   "metadata": {
    "execution": {
     "iopub.execute_input": "2023-11-23T17:12:17.334907Z",
     "iopub.status.busy": "2023-11-23T17:12:17.333910Z",
     "iopub.status.idle": "2023-11-23T17:12:17.341311Z",
     "shell.execute_reply": "2023-11-23T17:12:17.340188Z"
    },
    "papermill": {
     "duration": 0.017855,
     "end_time": "2023-11-23T17:12:17.344252",
     "exception": false,
     "start_time": "2023-11-23T17:12:17.326397",
     "status": "completed"
    },
    "tags": []
   },
   "outputs": [
    {
     "name": "stderr",
     "output_type": "stream",
     "text": [
      "/tmp/ipykernel_20/3496404589.py:2: SettingWithCopyWarning: \n",
      "A value is trying to be set on a copy of a slice from a DataFrame.\n",
      "Try using .loc[row_indexer,col_indexer] = value instead\n",
      "\n",
      "See the caveats in the documentation: https://pandas.pydata.org/pandas-docs/stable/user_guide/indexing.html#returning-a-view-versus-a-copy\n",
      "  submission['generated'] = res[:,1]\n"
     ]
    }
   ],
   "source": [
    "submission = test_essays_base[['id']]\n",
    "submission['generated'] = res[:,1]"
   ]
  },
  {
   "cell_type": "code",
   "execution_count": 17,
   "id": "d01f469d",
   "metadata": {
    "execution": {
     "iopub.execute_input": "2023-11-23T17:12:17.358526Z",
     "iopub.status.busy": "2023-11-23T17:12:17.358126Z",
     "iopub.status.idle": "2023-11-23T17:12:17.365254Z",
     "shell.execute_reply": "2023-11-23T17:12:17.364185Z"
    },
    "papermill": {
     "duration": 0.016964,
     "end_time": "2023-11-23T17:12:17.367441",
     "exception": false,
     "start_time": "2023-11-23T17:12:17.350477",
     "status": "completed"
    },
    "tags": []
   },
   "outputs": [
    {
     "name": "stderr",
     "output_type": "stream",
     "text": [
      "/tmp/ipykernel_20/3021702422.py:1: SettingWithCopyWarning: \n",
      "A value is trying to be set on a copy of a slice from a DataFrame.\n",
      "Try using .loc[row_indexer,col_indexer] = value instead\n",
      "\n",
      "See the caveats in the documentation: https://pandas.pydata.org/pandas-docs/stable/user_guide/indexing.html#returning-a-view-versus-a-copy\n",
      "  submission['generated'] = submission['generated'].apply(lambda a: (int(a)*10 + int(((a%1)*10)))/10)\n"
     ]
    }
   ],
   "source": [
    "submission['generated'] = submission['generated'].apply(lambda a: (int(a)*10 + int(((a%1)*10)))/10)"
   ]
  },
  {
   "cell_type": "code",
   "execution_count": 18,
   "id": "fdd6cfed",
   "metadata": {
    "execution": {
     "iopub.execute_input": "2023-11-23T17:12:17.382347Z",
     "iopub.status.busy": "2023-11-23T17:12:17.381938Z",
     "iopub.status.idle": "2023-11-23T17:12:17.390140Z",
     "shell.execute_reply": "2023-11-23T17:12:17.389003Z"
    },
    "papermill": {
     "duration": 0.018852,
     "end_time": "2023-11-23T17:12:17.392817",
     "exception": false,
     "start_time": "2023-11-23T17:12:17.373965",
     "status": "completed"
    },
    "tags": []
   },
   "outputs": [],
   "source": [
    "submission.to_csv('submission.csv', index=False)"
   ]
  },
  {
   "cell_type": "code",
   "execution_count": null,
   "id": "1a70e9fa",
   "metadata": {
    "papermill": {
     "duration": 0.006177,
     "end_time": "2023-11-23T17:12:17.405523",
     "exception": false,
     "start_time": "2023-11-23T17:12:17.399346",
     "status": "completed"
    },
    "tags": []
   },
   "outputs": [],
   "source": []
  }
 ],
 "metadata": {
  "kaggle": {
   "accelerator": "none",
   "dataSources": [
    {
     "databundleVersionId": 6888007,
     "sourceId": 61542,
     "sourceType": "competition"
    },
    {
     "datasetId": 3936750,
     "sourceId": 6847931,
     "sourceType": "datasetVersion"
    },
    {
     "datasetId": 3945154,
     "sourceId": 6865136,
     "sourceType": "datasetVersion"
    },
    {
     "datasetId": 3946973,
     "sourceId": 6867914,
     "sourceType": "datasetVersion"
    },
    {
     "datasetId": 3955358,
     "sourceId": 6888403,
     "sourceType": "datasetVersion"
    },
    {
     "datasetId": 3942644,
     "sourceId": 6890527,
     "sourceType": "datasetVersion"
    },
    {
     "datasetId": 3961875,
     "sourceId": 6971638,
     "sourceType": "datasetVersion"
    },
    {
     "datasetId": 4005256,
     "sourceId": 6977472,
     "sourceType": "datasetVersion"
    },
    {
     "datasetId": 3937250,
     "sourceId": 7017419,
     "sourceType": "datasetVersion"
    }
   ],
   "dockerImageVersionId": 30558,
   "isGpuEnabled": false,
   "isInternetEnabled": false,
   "language": "python",
   "sourceType": "notebook"
  },
  "kernelspec": {
   "display_name": "Python 3",
   "language": "python",
   "name": "python3"
  },
  "language_info": {
   "codemirror_mode": {
    "name": "ipython",
    "version": 3
   },
   "file_extension": ".py",
   "mimetype": "text/x-python",
   "name": "python",
   "nbconvert_exporter": "python",
   "pygments_lexer": "ipython3",
   "version": "3.10.12"
  },
  "papermill": {
   "default_parameters": {},
   "duration": 123.162625,
   "end_time": "2023-11-23T17:12:20.032808",
   "environment_variables": {},
   "exception": null,
   "input_path": "__notebook__.ipynb",
   "output_path": "__notebook__.ipynb",
   "parameters": {},
   "start_time": "2023-11-23T17:10:16.870183",
   "version": "2.4.0"
  }
 },
 "nbformat": 4,
 "nbformat_minor": 5
}
