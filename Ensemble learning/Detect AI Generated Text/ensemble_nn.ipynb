{
 "cells": [
  {
   "cell_type": "code",
   "execution_count": 1,
   "id": "5ed96fdb",
   "metadata": {
    "_cell_guid": "b1076dfc-b9ad-4769-8c92-a6c4dae69d19",
    "_uuid": "8f2839f25d086af736a60e9eeb907d3b93b6e0e5",
    "execution": {
     "iopub.execute_input": "2023-11-23T17:17:59.566631Z",
     "iopub.status.busy": "2023-11-23T17:17:59.566295Z",
     "iopub.status.idle": "2023-11-23T17:18:00.330398Z",
     "shell.execute_reply": "2023-11-23T17:18:00.329390Z"
    },
    "papermill": {
     "duration": 0.775955,
     "end_time": "2023-11-23T17:18:00.332722",
     "exception": false,
     "start_time": "2023-11-23T17:17:59.556767",
     "status": "completed"
    },
    "tags": []
   },
   "outputs": [
    {
     "name": "stdout",
     "output_type": "stream",
     "text": [
      "/kaggle/input/llm-detect-ai-generated-text/sample_submission.csv\n",
      "/kaggle/input/llm-detect-ai-generated-text/train_prompts.csv\n",
      "/kaggle/input/llm-detect-ai-generated-text/test_essays.csv\n",
      "/kaggle/input/llm-detect-ai-generated-text/train_essays.csv\n",
      "/kaggle/input/llm-7-prompt-training-dataset/train_essays_RDizzl3_seven_v2.csv\n",
      "/kaggle/input/llm-7-prompt-training-dataset/train_essays_7_prompts_v2.csv\n",
      "/kaggle/input/llm-7-prompt-training-dataset/train_essays_7_prompts.csv\n",
      "/kaggle/input/llm-7-prompt-training-dataset/train_essays_RDizzl3_seven_v1.csv\n",
      "/kaggle/input/argugpt/argugpt.csv\n",
      "/kaggle/input/argugpt/machine-dev.csv\n",
      "/kaggle/input/argugpt/machine-test.csv\n",
      "/kaggle/input/argugpt/machine-train.csv\n",
      "/kaggle/input/daigt-proper-train-dataset/train_drcat_03.csv\n",
      "/kaggle/input/daigt-proper-train-dataset/train_drcat_02.csv\n",
      "/kaggle/input/daigt-proper-train-dataset/train_drcat_04.csv\n",
      "/kaggle/input/daigt-proper-train-dataset/train_drcat_01.csv\n",
      "/kaggle/input/daigt-v2-train-dataset/train_v2_drcat_02.csv\n"
     ]
    }
   ],
   "source": [
    "# This Python 3 environment comes with many helpful analytics libraries installed\n",
    "# It is defined by the kaggle/python Docker image: https://github.com/kaggle/docker-python\n",
    "# For example, here's several helpful packages to load\n",
    "# import cudf as pd\n",
    "import time\n",
    "import numpy as np # linear algebra\n",
    "import pandas as pd # data processing, CSV file I/O (e.g. pd.read_csv)\n",
    "# import nltk\n",
    "# from nltk.tokenize import word_tokenize\n",
    "# from nltk.stem import WordNetLemmatizer\n",
    "# from nltk.corpus import wordnet\n",
    "# nltk.download(\"wordnet\")\n",
    "# nltk.download('punkt')\n",
    "# nltk.download(\"omw-1.4\")\n",
    "# Input data files are available in the read-only \"../input/\" directory\n",
    "# For example, running this (by clicking run or pressing Shift+Enter) will list all files under the input directory\n",
    "\n",
    "import os\n",
    "for dirname, _, filenames in os.walk('/kaggle/input'):\n",
    "    for filename in filenames:\n",
    "        print(os.path.join(dirname, filename))\n",
    "\n",
    "# You can write up to 20GB to the current directory (/kaggle/working/) that gets preserved as output when you create a version using \"Save & Run All\" \n",
    "# You can also write temporary files to /kaggle/temp/, but they won't be saved outside of the current session"
   ]
  },
  {
   "cell_type": "code",
   "execution_count": 2,
   "id": "8537219f",
   "metadata": {
    "execution": {
     "iopub.execute_input": "2023-11-23T17:18:00.351076Z",
     "iopub.status.busy": "2023-11-23T17:18:00.350627Z",
     "iopub.status.idle": "2023-11-23T17:18:13.131460Z",
     "shell.execute_reply": "2023-11-23T17:18:13.130640Z"
    },
    "papermill": {
     "duration": 12.792924,
     "end_time": "2023-11-23T17:18:13.133835",
     "exception": false,
     "start_time": "2023-11-23T17:18:00.340911",
     "status": "completed"
    },
    "tags": []
   },
   "outputs": [
    {
     "name": "stderr",
     "output_type": "stream",
     "text": [
      "/opt/conda/lib/python3.10/site-packages/scipy/__init__.py:146: UserWarning: A NumPy version >=1.16.5 and <1.23.0 is required for this version of SciPy (detected version 1.24.3\n",
      "  warnings.warn(f\"A NumPy version >={np_minversion} and <{np_maxversion}\"\n"
     ]
    }
   ],
   "source": [
    "from sklearn.feature_extraction.text import TfidfVectorizer\n",
    "from sklearn.model_selection import train_test_split\n",
    "import tensorflow as tf\n",
    "from tensorflow.keras.optimizers import Adam\n",
    "from tensorflow.keras.optimizers.schedules import PolynomialDecay"
   ]
  },
  {
   "cell_type": "code",
   "execution_count": 3,
   "id": "8c7cdfc6",
   "metadata": {
    "execution": {
     "iopub.execute_input": "2023-11-23T17:18:13.151968Z",
     "iopub.status.busy": "2023-11-23T17:18:13.151389Z",
     "iopub.status.idle": "2023-11-23T17:18:13.611667Z",
     "shell.execute_reply": "2023-11-23T17:18:13.610458Z"
    },
    "papermill": {
     "duration": 0.471271,
     "end_time": "2023-11-23T17:18:13.613706",
     "exception": false,
     "start_time": "2023-11-23T17:18:13.142435",
     "status": "completed"
    },
    "tags": []
   },
   "outputs": [
    {
     "name": "stdout",
     "output_type": "stream",
     "text": [
      "Num GPUs Available:  1\n",
      "TensorFlow Version:  2.13.0\n",
      "GPU Available:  [PhysicalDevice(name='/physical_device:GPU:0', device_type='GPU')]\n"
     ]
    }
   ],
   "source": [
    "# Check if a GPU is available\n",
    "print(\"Num GPUs Available: \", len(tf.config.experimental.list_physical_devices('GPU')))\n",
    "\n",
    "# Check TensorFlow version and GPU availability\n",
    "print(\"TensorFlow Version: \", tf.__version__)\n",
    "print(\"GPU Available: \", tf.config.list_physical_devices('GPU'))"
   ]
  },
  {
   "cell_type": "code",
   "execution_count": 4,
   "id": "47786641",
   "metadata": {
    "execution": {
     "iopub.execute_input": "2023-11-23T17:18:13.631800Z",
     "iopub.status.busy": "2023-11-23T17:18:13.631474Z",
     "iopub.status.idle": "2023-11-23T17:18:13.635981Z",
     "shell.execute_reply": "2023-11-23T17:18:13.635046Z"
    },
    "papermill": {
     "duration": 0.01597,
     "end_time": "2023-11-23T17:18:13.638044",
     "exception": false,
     "start_time": "2023-11-23T17:18:13.622074",
     "status": "completed"
    },
    "tags": []
   },
   "outputs": [],
   "source": [
    "gpus = tf.config.experimental.list_physical_devices('GPU')"
   ]
  },
  {
   "cell_type": "code",
   "execution_count": 5,
   "id": "801b2afa",
   "metadata": {
    "execution": {
     "iopub.execute_input": "2023-11-23T17:18:13.656802Z",
     "iopub.status.busy": "2023-11-23T17:18:13.655940Z",
     "iopub.status.idle": "2023-11-23T17:18:16.711559Z",
     "shell.execute_reply": "2023-11-23T17:18:16.710708Z"
    },
    "papermill": {
     "duration": 3.067573,
     "end_time": "2023-11-23T17:18:16.713944",
     "exception": false,
     "start_time": "2023-11-23T17:18:13.646371",
     "status": "completed"
    },
    "tags": []
   },
   "outputs": [],
   "source": [
    "# Dataset from the competition\n",
    "train_essays_base = pd.read_csv('/kaggle/input/llm-detect-ai-generated-text/train_essays.csv')\n",
    "test_essays_base = pd.read_csv('/kaggle/input/llm-detect-ai-generated-text/test_essays.csv')\n",
    "train_prompts_base = pd.read_csv('/kaggle/input/llm-detect-ai-generated-text/train_prompts.csv')\n",
    "\n",
    "# Dataset from argugpt\n",
    "argu_base = pd.read_csv('/kaggle/input/argugpt/argugpt.csv')\n",
    "\n",
    "# # Dataset from daigt\n",
    "# daigt_1_base = pd.read_csv('/kaggle/input/daigt-proper-train-dataset/train_drcat_01.csv')\n",
    "# daigt_2_base = pd.read_csv('/kaggle/input/daigt-proper-train-dataset/train_drcat_02.csv')\n",
    "# daigt_3_base = pd.read_csv('/kaggle/input/daigt-proper-train-dataset/train_drcat_03.csv')\n",
    "# daigt_4_base = pd.read_csv('/kaggle/input/daigt-proper-train-dataset/train_drcat_04.csv')\n",
    "\n",
    "# Dataset from daigt v2\n",
    "daigtv2_base = pd.read_csv('/kaggle/input/daigt-v2-train-dataset/train_v2_drcat_02.csv')\n",
    "\n",
    "# Dataset from Rdizzl3\n",
    "llm_base = pd.read_csv('/kaggle/input/llm-7-prompt-training-dataset/train_essays_RDizzl3_seven_v2.csv')"
   ]
  },
  {
   "cell_type": "code",
   "execution_count": 6,
   "id": "25c4c7b8",
   "metadata": {
    "execution": {
     "iopub.execute_input": "2023-11-23T17:18:16.732295Z",
     "iopub.status.busy": "2023-11-23T17:18:16.731924Z",
     "iopub.status.idle": "2023-11-23T17:18:16.752379Z",
     "shell.execute_reply": "2023-11-23T17:18:16.751279Z"
    },
    "papermill": {
     "duration": 0.032031,
     "end_time": "2023-11-23T17:18:16.754478",
     "exception": false,
     "start_time": "2023-11-23T17:18:16.722447",
     "status": "completed"
    },
    "tags": []
   },
   "outputs": [],
   "source": [
    "train_esssays = train_essays_base[['text', 'generated']]\n",
    "# train_esssays['generated'] = 0"
   ]
  },
  {
   "cell_type": "code",
   "execution_count": 7,
   "id": "5b335107",
   "metadata": {
    "execution": {
     "iopub.execute_input": "2023-11-23T17:18:16.772943Z",
     "iopub.status.busy": "2023-11-23T17:18:16.772129Z",
     "iopub.status.idle": "2023-11-23T17:18:16.778605Z",
     "shell.execute_reply": "2023-11-23T17:18:16.777693Z"
    },
    "papermill": {
     "duration": 0.019838,
     "end_time": "2023-11-23T17:18:16.782615",
     "exception": false,
     "start_time": "2023-11-23T17:18:16.762777",
     "status": "completed"
    },
    "tags": []
   },
   "outputs": [
    {
     "name": "stderr",
     "output_type": "stream",
     "text": [
      "/tmp/ipykernel_26/2722883321.py:2: SettingWithCopyWarning: \n",
      "A value is trying to be set on a copy of a slice from a DataFrame.\n",
      "Try using .loc[row_indexer,col_indexer] = value instead\n",
      "\n",
      "See the caveats in the documentation: https://pandas.pydata.org/pandas-docs/stable/user_guide/indexing.html#returning-a-view-versus-a-copy\n",
      "  argu['generated'] = 1\n"
     ]
    }
   ],
   "source": [
    "argu = argu_base[['text']]\n",
    "argu['generated'] = 1"
   ]
  },
  {
   "cell_type": "code",
   "execution_count": 8,
   "id": "3afcedca",
   "metadata": {
    "execution": {
     "iopub.execute_input": "2023-11-23T17:18:16.802335Z",
     "iopub.status.busy": "2023-11-23T17:18:16.801947Z",
     "iopub.status.idle": "2023-11-23T17:18:16.806527Z",
     "shell.execute_reply": "2023-11-23T17:18:16.805571Z"
    },
    "papermill": {
     "duration": 0.01627,
     "end_time": "2023-11-23T17:18:16.808446",
     "exception": false,
     "start_time": "2023-11-23T17:18:16.792176",
     "status": "completed"
    },
    "tags": []
   },
   "outputs": [],
   "source": [
    "# daigt_1 = daigt_1_base[['text', 'label']]\n",
    "# daigt_1.rename(columns={'label':'generated'}, inplace=True)\n",
    "# daigt_2 = daigt_2_base[['text', 'label']]\n",
    "# daigt_2.rename(columns={'label':'generated'}, inplace=True)\n",
    "# daigt_3 = daigt_3_base[['text', 'label']]\n",
    "# daigt_3.rename(columns={'label':'generated'}, inplace=True)\n",
    "# daigt_4 = daigt_4_base[['text', 'label']]\n",
    "# daigt_4.rename(columns={'label':'generated'}, inplace=True)"
   ]
  },
  {
   "cell_type": "code",
   "execution_count": 9,
   "id": "4ec25ef1",
   "metadata": {
    "execution": {
     "iopub.execute_input": "2023-11-23T17:18:16.826388Z",
     "iopub.status.busy": "2023-11-23T17:18:16.826031Z",
     "iopub.status.idle": "2023-11-23T17:18:16.853380Z",
     "shell.execute_reply": "2023-11-23T17:18:16.852302Z"
    },
    "papermill": {
     "duration": 0.039392,
     "end_time": "2023-11-23T17:18:16.856056",
     "exception": false,
     "start_time": "2023-11-23T17:18:16.816664",
     "status": "completed"
    },
    "tags": []
   },
   "outputs": [
    {
     "name": "stderr",
     "output_type": "stream",
     "text": [
      "/tmp/ipykernel_26/3126248357.py:7: SettingWithCopyWarning: \n",
      "A value is trying to be set on a copy of a slice from a DataFrame\n",
      "\n",
      "See the caveats in the documentation: https://pandas.pydata.org/pandas-docs/stable/user_guide/indexing.html#returning-a-view-versus-a-copy\n",
      "  daigtv2.rename(columns={'label':'generated'}, inplace=True)\n"
     ]
    }
   ],
   "source": [
    "train_ = daigtv2_base[daigtv2_base.RDizzl3_seven == False].reset_index(drop=True)\n",
    "train_ = daigtv2_base[daigtv2_base[\"label\"]==1].sample(8000)\n",
    "daigtv2_base = daigtv2_base[daigtv2_base.RDizzl3_seven == True].reset_index(drop=True)\n",
    "daigtv2_base = pd.concat([daigtv2_base, train_])\n",
    "\n",
    "daigtv2 = daigtv2_base[['text', 'label']]\n",
    "daigtv2.rename(columns={'label':'generated'}, inplace=True)"
   ]
  },
  {
   "cell_type": "code",
   "execution_count": 10,
   "id": "6a4ecb7f",
   "metadata": {
    "execution": {
     "iopub.execute_input": "2023-11-23T17:18:16.875916Z",
     "iopub.status.busy": "2023-11-23T17:18:16.875613Z",
     "iopub.status.idle": "2023-11-23T17:18:16.883448Z",
     "shell.execute_reply": "2023-11-23T17:18:16.882375Z"
    },
    "papermill": {
     "duration": 0.019497,
     "end_time": "2023-11-23T17:18:16.885480",
     "exception": false,
     "start_time": "2023-11-23T17:18:16.865983",
     "status": "completed"
    },
    "tags": []
   },
   "outputs": [],
   "source": [
    "llm = llm_base[['text', 'label']]\n",
    "llm.rename(columns={'label':'generated'}, inplace=True)"
   ]
  },
  {
   "cell_type": "code",
   "execution_count": 11,
   "id": "adbbcb22",
   "metadata": {
    "execution": {
     "iopub.execute_input": "2023-11-23T17:18:16.903656Z",
     "iopub.status.busy": "2023-11-23T17:18:16.903344Z",
     "iopub.status.idle": "2023-11-23T17:18:26.717613Z",
     "shell.execute_reply": "2023-11-23T17:18:26.716731Z"
    },
    "papermill": {
     "duration": 9.826081,
     "end_time": "2023-11-23T17:18:26.719976",
     "exception": false,
     "start_time": "2023-11-23T17:18:16.893895",
     "status": "completed"
    },
    "tags": []
   },
   "outputs": [],
   "source": [
    "# argu\n",
    "# train_essays\n",
    "# daigt_1\n",
    "df = pd.concat([\n",
    "    train_esssays,\n",
    "    argu,\n",
    "    llm,\n",
    "    daigtv2\n",
    "])\n",
    "\n",
    "df['text'] = df['text'].str.replace('\\n', ' ')\n",
    "df['text'] = df['text'].str.replace('\\\"', '')\n",
    "df['text'] = df['text'].str.replace('\\'', '')\n",
    "df['text'] = df['text'].str.replace(',', ' ')\n",
    "df['text'] = df['text'].str.replace('?', ' ')\n",
    "df['text'] = df['text'].str.replace('!', ' ')\n",
    "df['text'] = df['text'].str.replace('\\\\', '')\n",
    "df['text'] = df['text'].str.replace('\\\"', '')\n",
    "df['text'] = df['text'].str.replace(r'<[^>]+>', '', regex=True)\n",
    "df['text'] = df['text'].str.replace(r'\\s+', ' ', regex=True)"
   ]
  },
  {
   "cell_type": "code",
   "execution_count": 12,
   "id": "bebaf2ab",
   "metadata": {
    "execution": {
     "iopub.execute_input": "2023-11-23T17:18:26.738885Z",
     "iopub.status.busy": "2023-11-23T17:18:26.738070Z",
     "iopub.status.idle": "2023-11-23T17:18:26.760481Z",
     "shell.execute_reply": "2023-11-23T17:18:26.759601Z"
    },
    "papermill": {
     "duration": 0.033808,
     "end_time": "2023-11-23T17:18:26.762489",
     "exception": false,
     "start_time": "2023-11-23T17:18:26.728681",
     "status": "completed"
    },
    "tags": []
   },
   "outputs": [
    {
     "data": {
      "text/plain": [
       "generated\n",
       "0    29872\n",
       "1    21245\n",
       "Name: count, dtype: int64"
      ]
     },
     "execution_count": 12,
     "metadata": {},
     "output_type": "execute_result"
    }
   ],
   "source": [
    "df = df.dropna()\n",
    "df['generated'].value_counts()"
   ]
  },
  {
   "cell_type": "code",
   "execution_count": 13,
   "id": "7628f374",
   "metadata": {
    "execution": {
     "iopub.execute_input": "2023-11-23T17:18:26.780710Z",
     "iopub.status.busy": "2023-11-23T17:18:26.780358Z",
     "iopub.status.idle": "2023-11-23T17:18:26.784737Z",
     "shell.execute_reply": "2023-11-23T17:18:26.783702Z"
    },
    "papermill": {
     "duration": 0.015857,
     "end_time": "2023-11-23T17:18:26.786700",
     "exception": false,
     "start_time": "2023-11-23T17:18:26.770843",
     "status": "completed"
    },
    "tags": []
   },
   "outputs": [],
   "source": [
    "NUMBER_OF_SAMPLES = 21000\n",
    "NUMBER_OF_MODELS = 4"
   ]
  },
  {
   "cell_type": "code",
   "execution_count": 14,
   "id": "89d3e180",
   "metadata": {
    "execution": {
     "iopub.execute_input": "2023-11-23T17:18:26.805283Z",
     "iopub.status.busy": "2023-11-23T17:18:26.804658Z",
     "iopub.status.idle": "2023-11-23T17:18:26.867721Z",
     "shell.execute_reply": "2023-11-23T17:18:26.866684Z"
    },
    "papermill": {
     "duration": 0.074538,
     "end_time": "2023-11-23T17:18:26.869905",
     "exception": false,
     "start_time": "2023-11-23T17:18:26.795367",
     "status": "completed"
    },
    "tags": []
   },
   "outputs": [
    {
     "name": "stdout",
     "output_type": "stream",
     "text": [
      "<class 'pandas.core.frame.DataFrame'>\n",
      "Index: 21000 entries, 5632 to 9647\n",
      "Data columns (total 2 columns):\n",
      " #   Column     Non-Null Count  Dtype \n",
      "---  ------     --------------  ----- \n",
      " 0   text       21000 non-null  object\n",
      " 1   generated  21000 non-null  int64 \n",
      "dtypes: int64(1), object(1)\n",
      "memory usage: 492.2+ KB\n"
     ]
    }
   ],
   "source": [
    "\n",
    "negative = df[df['generated'] == 0]\n",
    "positive = df[df['generated'] == 1]\n",
    "df = pd.concat([negative.sample(NUMBER_OF_SAMPLES), positive.sample(NUMBER_OF_SAMPLES)])\n",
    "df = df.sample(NUMBER_OF_SAMPLES)\n",
    "df.info()"
   ]
  },
  {
   "cell_type": "code",
   "execution_count": 15,
   "id": "b3f597fe",
   "metadata": {
    "execution": {
     "iopub.execute_input": "2023-11-23T17:18:26.888829Z",
     "iopub.status.busy": "2023-11-23T17:18:26.887979Z",
     "iopub.status.idle": "2023-11-23T17:18:26.892072Z",
     "shell.execute_reply": "2023-11-23T17:18:26.891235Z"
    },
    "papermill": {
     "duration": 0.015632,
     "end_time": "2023-11-23T17:18:26.894009",
     "exception": false,
     "start_time": "2023-11-23T17:18:26.878377",
     "status": "completed"
    },
    "tags": []
   },
   "outputs": [],
   "source": [
    "# import gensim\n",
    "# from gensim.models import Word2Vec"
   ]
  },
  {
   "cell_type": "code",
   "execution_count": 16,
   "id": "3715d9f4",
   "metadata": {
    "execution": {
     "iopub.execute_input": "2023-11-23T17:18:26.912540Z",
     "iopub.status.busy": "2023-11-23T17:18:26.912254Z",
     "iopub.status.idle": "2023-11-23T17:18:26.934870Z",
     "shell.execute_reply": "2023-11-23T17:18:26.933926Z"
    },
    "papermill": {
     "duration": 0.034476,
     "end_time": "2023-11-23T17:18:26.936922",
     "exception": false,
     "start_time": "2023-11-23T17:18:26.902446",
     "status": "completed"
    },
    "tags": []
   },
   "outputs": [],
   "source": [
    "class EnsembleNN():\n",
    "\n",
    "    def __init__(self, number_of_samples, number_of_models):\n",
    "        self.nos = number_of_samples\n",
    "        self.nom = number_of_models\n",
    "        self.df = None\n",
    "        self.models = []\n",
    "        self.get_optimizer()\n",
    "\n",
    "    def insert_df(self, df, x_column, y_column, test):\n",
    "        print('Inserting df')\n",
    "        self.df = df\n",
    "        self.x = x_column\n",
    "        self.y = y_column\n",
    "        if test is not None:\n",
    "            self.generate_vectorizer(test)\n",
    "        else:\n",
    "            self.generate_vectorizer(df)\n",
    "#         self.generate_word2vec()\n",
    "        \n",
    "    def generate_word2vec(self, vector_size=100, window=5, min_count=1, workers=4):\n",
    "        # Assuming your data is already tokenized, if not, you may need to tokenize it first.\n",
    "        sentences = [text.split() for text in self.df[self.x]]\n",
    "        self.word2vec_model = Word2Vec(sentences, vector_size=vector_size, window=window, min_count=min_count, workers=workers)\n",
    "\n",
    "    def generate_vectorizer(self,df, max_feature=None, n_grams=5):\n",
    "        print('TFIDF vectorizer')\n",
    "        tfidf_vectorizer = TfidfVectorizer(max_features=max_feature,\n",
    "                                           lowercase=True,\n",
    "                                           analyzer='word',\n",
    "                                           stop_words='english',\n",
    "                                           ngram_range=(1, n_grams),\n",
    "                                           sublinear_tf=True)\n",
    "        self.tfidf = tfidf_vectorizer.fit(df[self.x])\n",
    "        print('TFIDF finished!')\n",
    "        \n",
    "    def word2vec_transform(self, input):\n",
    "        # Transform a sentence into the averaged Word2Vec representation\n",
    "        vectors = [np.mean([self.word2vec_model.wv[word] for word in sentence.split() if word in self.word2vec_model.wv]\n",
    "                           or [np.zeros(self.word2vec_model.vector_size)], axis=0)\n",
    "                   for sentence in input]\n",
    "        return np.vstack(vectors)\n",
    "        \n",
    "    def generate_models(self):\n",
    "        if gpus:\n",
    "#             try:\n",
    "#                 # Allow GPU memory growth\n",
    "#                 for gpu in gpus:\n",
    "#                     tf.config.experimental.set_memory_growth(gpu, True)\n",
    "#             except RuntimeError as e:\n",
    "#                 print(e)\n",
    "            # Explicitly specify the GPU device\n",
    "            with tf.device('/GPU:0'):\n",
    "                for i in range(self.nom):\n",
    "                    self.create_model()\n",
    "                print(\"GPU is available and used.\")\n",
    "        else:\n",
    "            print(\"No GPU available.\")\n",
    "        \n",
    "    def tfidf_transform(self, input):\n",
    "        return self.tfidf.transform(input)\n",
    "    \n",
    "    def get_optimizer(self):\n",
    "        # Define the learning rate schedule\n",
    "        initial_learning_rate = 1e-2\n",
    "        decay_steps = 10000\n",
    "        end_learning_rate = 1e-5\n",
    "        power = 1.0\n",
    "\n",
    "        lr_schedule = PolynomialDecay(\n",
    "            initial_learning_rate,\n",
    "            decay_steps,\n",
    "            end_learning_rate,\n",
    "            power\n",
    "        )\n",
    "\n",
    "        # Use the AdamW optimizer with weight decay\n",
    "        self.optimizer = Adam(learning_rate=lr_schedule, epsilon=1e-08, clipvalue=0.5, amsgrad=False, name='AdamW')\n",
    "    \n",
    "    def create_model(self):\n",
    "        if self.nos is None:\n",
    "            self.nos = len(self.df)\n",
    "        samples = self.df.sample(self.nos)\n",
    "        train_x, test_x, train_y, test_y = train_test_split(samples[self.x], samples[self.y], test_size=0.3)\n",
    "        train_x = self.tfidf.transform(train_x).toarray()\n",
    "#         train_x = self.word2vec_transform(train_x)\n",
    "        model = tf.keras.Sequential([\n",
    "            tf.keras.layers.Dense(2048, activation='relu'),\n",
    "            tf.keras.layers.Dense(1024, activation='relu'),\n",
    "            tf.keras.layers.Dropout(0.95),\n",
    "            tf.keras.layers.Dense(128, activation='relu'),\n",
    "            tf.keras.layers.Dense(1, activation='sigmoid')\n",
    "        ])\n",
    "        model.compile(optimizer=\"adam\", loss='binary_crossentropy', metrics=['accuracy'])\n",
    "        model.fit(train_x, train_y, epochs=16, batch_size=64, validation_split=0.1)\n",
    "\n",
    "        test_x = self.tfidf.transform(test_x).toarray()\n",
    "#         test_x = self.word2vec_transform(test_x)\n",
    "        loss, accuracy = model.evaluate(test_x, test_y)\n",
    "        print(f\"Test Loss: {loss}, Test Accuracy: {accuracy}\")\n",
    "        self.models.append(model)\n",
    "\n",
    "    def predict(self, test):\n",
    "        predictions = None\n",
    "        for m in self.models:\n",
    "            p = m.predict(test)\n",
    "            if predictions is not None:\n",
    "                predictions = np.add(p, predictions)\n",
    "            else:\n",
    "                predictions = p\n",
    "\n",
    "        return predictions/self.nom"
   ]
  },
  {
   "cell_type": "code",
   "execution_count": 17,
   "id": "900c93b1",
   "metadata": {
    "execution": {
     "iopub.execute_input": "2023-11-23T17:18:26.955270Z",
     "iopub.status.busy": "2023-11-23T17:18:26.954907Z",
     "iopub.status.idle": "2023-11-23T17:18:29.059721Z",
     "shell.execute_reply": "2023-11-23T17:18:29.058552Z"
    },
    "papermill": {
     "duration": 2.116472,
     "end_time": "2023-11-23T17:18:29.061839",
     "exception": false,
     "start_time": "2023-11-23T17:18:26.945367",
     "status": "completed"
    },
    "tags": []
   },
   "outputs": [
    {
     "name": "stdout",
     "output_type": "stream",
     "text": [
      "Inserting df\n",
      "TFIDF vectorizer\n",
      "TFIDF finished!\n"
     ]
    }
   ],
   "source": [
    "enn = EnsembleNN(NUMBER_OF_SAMPLES, NUMBER_OF_MODELS)\n",
    "enn.insert_df(df, 'text', 'generated', test_essays_base)"
   ]
  },
  {
   "cell_type": "code",
   "execution_count": 18,
   "id": "ba3ba0b5",
   "metadata": {
    "execution": {
     "iopub.execute_input": "2023-11-23T17:18:29.080479Z",
     "iopub.status.busy": "2023-11-23T17:18:29.079691Z",
     "iopub.status.idle": "2023-11-23T17:20:37.767967Z",
     "shell.execute_reply": "2023-11-23T17:20:37.766636Z"
    },
    "papermill": {
     "duration": 128.699668,
     "end_time": "2023-11-23T17:20:37.770086",
     "exception": false,
     "start_time": "2023-11-23T17:18:29.070418",
     "status": "completed"
    },
    "tags": []
   },
   "outputs": [
    {
     "name": "stdout",
     "output_type": "stream",
     "text": [
      "Epoch 1/16\n",
      "207/207 [==============================] - 6s 4ms/step - loss: 0.6931 - accuracy: 0.5090 - val_loss: 0.6936 - val_accuracy: 0.4789\n",
      "Epoch 2/16\n",
      "207/207 [==============================] - 1s 3ms/step - loss: 0.6930 - accuracy: 0.5090 - val_loss: 0.6939 - val_accuracy: 0.4789\n",
      "Epoch 3/16\n",
      "207/207 [==============================] - 1s 4ms/step - loss: 0.6930 - accuracy: 0.5090 - val_loss: 0.6939 - val_accuracy: 0.4789\n",
      "Epoch 4/16\n",
      "207/207 [==============================] - 1s 4ms/step - loss: 0.6930 - accuracy: 0.5090 - val_loss: 0.6940 - val_accuracy: 0.4789\n",
      "Epoch 5/16\n",
      "207/207 [==============================] - 1s 4ms/step - loss: 0.6930 - accuracy: 0.5090 - val_loss: 0.6941 - val_accuracy: 0.4789\n",
      "Epoch 6/16\n",
      "207/207 [==============================] - 1s 4ms/step - loss: 0.6930 - accuracy: 0.5090 - val_loss: 0.6941 - val_accuracy: 0.4789\n",
      "Epoch 7/16\n",
      "207/207 [==============================] - 1s 4ms/step - loss: 0.6930 - accuracy: 0.5090 - val_loss: 0.6940 - val_accuracy: 0.4789\n",
      "Epoch 8/16\n",
      "207/207 [==============================] - 1s 4ms/step - loss: 0.6930 - accuracy: 0.5090 - val_loss: 0.6940 - val_accuracy: 0.4789\n",
      "Epoch 9/16\n",
      "207/207 [==============================] - 1s 3ms/step - loss: 0.6930 - accuracy: 0.5090 - val_loss: 0.6940 - val_accuracy: 0.4789\n",
      "Epoch 10/16\n",
      "207/207 [==============================] - 1s 4ms/step - loss: 0.6930 - accuracy: 0.5090 - val_loss: 0.6940 - val_accuracy: 0.4789\n",
      "Epoch 11/16\n",
      "207/207 [==============================] - 1s 4ms/step - loss: 0.6930 - accuracy: 0.5090 - val_loss: 0.6941 - val_accuracy: 0.4789\n",
      "Epoch 12/16\n",
      "207/207 [==============================] - 1s 4ms/step - loss: 0.6930 - accuracy: 0.5090 - val_loss: 0.6941 - val_accuracy: 0.4789\n",
      "Epoch 13/16\n",
      "207/207 [==============================] - 1s 4ms/step - loss: 0.6930 - accuracy: 0.5090 - val_loss: 0.6941 - val_accuracy: 0.4789\n",
      "Epoch 14/16\n",
      "207/207 [==============================] - 1s 4ms/step - loss: 0.6930 - accuracy: 0.5090 - val_loss: 0.6941 - val_accuracy: 0.4789\n",
      "Epoch 15/16\n",
      "207/207 [==============================] - 1s 4ms/step - loss: 0.6930 - accuracy: 0.5090 - val_loss: 0.6941 - val_accuracy: 0.4789\n",
      "Epoch 16/16\n",
      "207/207 [==============================] - 1s 4ms/step - loss: 0.6930 - accuracy: 0.5090 - val_loss: 0.6942 - val_accuracy: 0.4789\n",
      "197/197 [==============================] - 0s 2ms/step - loss: 0.6938 - accuracy: 0.4873\n",
      "Test Loss: 0.6938265562057495, Test Accuracy: 0.4873015880584717\n",
      "Epoch 1/16\n",
      "207/207 [==============================] - 2s 4ms/step - loss: 0.6943 - accuracy: 0.4973 - val_loss: 0.6933 - val_accuracy: 0.4918\n",
      "Epoch 2/16\n",
      "207/207 [==============================] - 1s 4ms/step - loss: 0.6934 - accuracy: 0.5089 - val_loss: 0.6932 - val_accuracy: 0.4918\n",
      "Epoch 3/16\n",
      "207/207 [==============================] - 1s 4ms/step - loss: 0.6937 - accuracy: 0.5007 - val_loss: 0.6932 - val_accuracy: 0.4918\n",
      "Epoch 4/16\n",
      "207/207 [==============================] - 1s 4ms/step - loss: 0.6933 - accuracy: 0.4985 - val_loss: 0.6932 - val_accuracy: 0.4918\n",
      "Epoch 5/16\n",
      "207/207 [==============================] - 1s 4ms/step - loss: 0.6932 - accuracy: 0.4997 - val_loss: 0.6932 - val_accuracy: 0.4918\n",
      "Epoch 6/16\n",
      "207/207 [==============================] - 1s 4ms/step - loss: 0.6933 - accuracy: 0.5007 - val_loss: 0.6932 - val_accuracy: 0.4918\n",
      "Epoch 7/16\n",
      "207/207 [==============================] - 1s 4ms/step - loss: 0.6933 - accuracy: 0.4944 - val_loss: 0.6932 - val_accuracy: 0.4918\n",
      "Epoch 8/16\n",
      "207/207 [==============================] - 1s 3ms/step - loss: 0.6932 - accuracy: 0.4988 - val_loss: 0.6932 - val_accuracy: 0.4918\n",
      "Epoch 9/16\n",
      "207/207 [==============================] - 1s 4ms/step - loss: 0.6931 - accuracy: 0.4961 - val_loss: 0.6932 - val_accuracy: 0.4918\n",
      "Epoch 10/16\n",
      "207/207 [==============================] - 1s 4ms/step - loss: 0.6931 - accuracy: 0.4996 - val_loss: 0.6932 - val_accuracy: 0.4918\n",
      "Epoch 11/16\n",
      "207/207 [==============================] - 1s 4ms/step - loss: 0.6931 - accuracy: 0.4982 - val_loss: 0.6932 - val_accuracy: 0.4918\n",
      "Epoch 12/16\n",
      "207/207 [==============================] - 1s 4ms/step - loss: 0.6931 - accuracy: 0.5033 - val_loss: 0.6932 - val_accuracy: 0.4918\n",
      "Epoch 13/16\n",
      "207/207 [==============================] - 1s 4ms/step - loss: 0.6931 - accuracy: 0.4988 - val_loss: 0.6932 - val_accuracy: 0.4918\n",
      "Epoch 14/16\n",
      "207/207 [==============================] - 1s 3ms/step - loss: 0.6932 - accuracy: 0.4958 - val_loss: 0.6933 - val_accuracy: 0.4918\n",
      "Epoch 15/16\n",
      "207/207 [==============================] - 1s 3ms/step - loss: 0.6931 - accuracy: 0.4939 - val_loss: 0.6932 - val_accuracy: 0.4918\n",
      "Epoch 16/16\n",
      "207/207 [==============================] - 1s 3ms/step - loss: 0.6930 - accuracy: 0.5032 - val_loss: 0.6931 - val_accuracy: 0.5082\n",
      "197/197 [==============================] - 0s 2ms/step - loss: 0.6929 - accuracy: 0.4984\n",
      "Test Loss: 0.6929458379745483, Test Accuracy: 0.49841269850730896\n",
      "Epoch 1/16\n",
      "207/207 [==============================] - 2s 4ms/step - loss: 0.6935 - accuracy: 0.4956 - val_loss: 0.6936 - val_accuracy: 0.5075\n",
      "Epoch 2/16\n",
      "207/207 [==============================] - 1s 4ms/step - loss: 0.6944 - accuracy: 0.4934 - val_loss: 0.6931 - val_accuracy: 0.5075\n",
      "Epoch 3/16\n",
      "207/207 [==============================] - 1s 4ms/step - loss: 0.6936 - accuracy: 0.4983 - val_loss: 0.6931 - val_accuracy: 0.5075\n",
      "Epoch 4/16\n",
      "207/207 [==============================] - 1s 4ms/step - loss: 0.6934 - accuracy: 0.4971 - val_loss: 0.6931 - val_accuracy: 0.5075\n",
      "Epoch 5/16\n",
      "207/207 [==============================] - 1s 4ms/step - loss: 0.6932 - accuracy: 0.5051 - val_loss: 0.6931 - val_accuracy: 0.5075\n",
      "Epoch 6/16\n",
      "207/207 [==============================] - 1s 4ms/step - loss: 0.6934 - accuracy: 0.4935 - val_loss: 0.6931 - val_accuracy: 0.5075\n",
      "Epoch 7/16\n",
      "207/207 [==============================] - 1s 4ms/step - loss: 0.6933 - accuracy: 0.4999 - val_loss: 0.6931 - val_accuracy: 0.5075\n",
      "Epoch 8/16\n",
      "207/207 [==============================] - 1s 4ms/step - loss: 0.6932 - accuracy: 0.5025 - val_loss: 0.6931 - val_accuracy: 0.5075\n",
      "Epoch 9/16\n",
      "207/207 [==============================] - 1s 4ms/step - loss: 0.6931 - accuracy: 0.5030 - val_loss: 0.6931 - val_accuracy: 0.5075\n",
      "Epoch 10/16\n",
      "207/207 [==============================] - 1s 3ms/step - loss: 0.6933 - accuracy: 0.4946 - val_loss: 0.6931 - val_accuracy: 0.5075\n",
      "Epoch 11/16\n",
      "207/207 [==============================] - 1s 4ms/step - loss: 0.6933 - accuracy: 0.5041 - val_loss: 0.6930 - val_accuracy: 0.5075\n",
      "Epoch 12/16\n",
      "207/207 [==============================] - 1s 4ms/step - loss: 0.6933 - accuracy: 0.5005 - val_loss: 0.6931 - val_accuracy: 0.5075\n",
      "Epoch 13/16\n",
      "207/207 [==============================] - 1s 4ms/step - loss: 0.6933 - accuracy: 0.5029 - val_loss: 0.6931 - val_accuracy: 0.5075\n",
      "Epoch 14/16\n",
      "207/207 [==============================] - 1s 3ms/step - loss: 0.6932 - accuracy: 0.5007 - val_loss: 0.6931 - val_accuracy: 0.5075\n",
      "Epoch 15/16\n",
      "207/207 [==============================] - 1s 3ms/step - loss: 0.6931 - accuracy: 0.5045 - val_loss: 0.6930 - val_accuracy: 0.5075\n",
      "Epoch 16/16\n",
      "207/207 [==============================] - 1s 4ms/step - loss: 0.6932 - accuracy: 0.4995 - val_loss: 0.6931 - val_accuracy: 0.5075\n",
      "197/197 [==============================] - 0s 2ms/step - loss: 0.6930 - accuracy: 0.4927\n",
      "Test Loss: 0.6930174231529236, Test Accuracy: 0.49269840121269226\n",
      "Epoch 1/16\n",
      "207/207 [==============================] - 2s 4ms/step - loss: 0.6939 - accuracy: 0.5025 - val_loss: 0.6933 - val_accuracy: 0.4905\n",
      "Epoch 2/16\n",
      "207/207 [==============================] - 1s 4ms/step - loss: 0.6939 - accuracy: 0.5001 - val_loss: 0.6933 - val_accuracy: 0.4905\n",
      "Epoch 3/16\n",
      "207/207 [==============================] - 1s 4ms/step - loss: 0.6932 - accuracy: 0.5073 - val_loss: 0.6930 - val_accuracy: 0.4905\n",
      "Epoch 4/16\n",
      "207/207 [==============================] - 1s 4ms/step - loss: 0.6937 - accuracy: 0.4961 - val_loss: 0.6931 - val_accuracy: 0.4905\n",
      "Epoch 5/16\n",
      "207/207 [==============================] - 1s 4ms/step - loss: 0.6932 - accuracy: 0.5063 - val_loss: 0.6930 - val_accuracy: 0.4905\n",
      "Epoch 6/16\n",
      "207/207 [==============================] - 1s 4ms/step - loss: 0.6931 - accuracy: 0.4975 - val_loss: 0.6929 - val_accuracy: 0.4905\n",
      "Epoch 7/16\n",
      "207/207 [==============================] - 1s 4ms/step - loss: 0.6929 - accuracy: 0.5071 - val_loss: 0.6927 - val_accuracy: 0.4905\n",
      "Epoch 8/16\n",
      "207/207 [==============================] - 1s 4ms/step - loss: 0.6931 - accuracy: 0.5045 - val_loss: 0.6928 - val_accuracy: 0.4905\n",
      "Epoch 9/16\n",
      "207/207 [==============================] - 1s 4ms/step - loss: 0.6933 - accuracy: 0.5002 - val_loss: 0.6927 - val_accuracy: 0.4905\n",
      "Epoch 10/16\n",
      "207/207 [==============================] - 1s 4ms/step - loss: 0.6932 - accuracy: 0.5008 - val_loss: 0.6927 - val_accuracy: 0.4905\n",
      "Epoch 11/16\n",
      "207/207 [==============================] - 1s 4ms/step - loss: 0.6930 - accuracy: 0.5030 - val_loss: 0.6927 - val_accuracy: 0.4905\n",
      "Epoch 12/16\n",
      "207/207 [==============================] - 1s 4ms/step - loss: 0.6932 - accuracy: 0.4992 - val_loss: 0.6928 - val_accuracy: 0.4905\n",
      "Epoch 13/16\n",
      "207/207 [==============================] - 1s 4ms/step - loss: 0.6930 - accuracy: 0.5026 - val_loss: 0.6929 - val_accuracy: 0.4905\n",
      "Epoch 14/16\n",
      "207/207 [==============================] - 1s 4ms/step - loss: 0.6930 - accuracy: 0.5008 - val_loss: 0.6928 - val_accuracy: 0.4905\n",
      "Epoch 15/16\n",
      "207/207 [==============================] - 1s 4ms/step - loss: 0.6931 - accuracy: 0.5018 - val_loss: 0.6929 - val_accuracy: 0.4905\n",
      "Epoch 16/16\n",
      "207/207 [==============================] - 1s 3ms/step - loss: 0.6930 - accuracy: 0.5032 - val_loss: 0.6928 - val_accuracy: 0.4905\n",
      "197/197 [==============================] - 0s 2ms/step - loss: 0.6931 - accuracy: 0.4954\n",
      "Test Loss: 0.6931196451187134, Test Accuracy: 0.49539682269096375\n",
      "GPU is available and used.\n"
     ]
    }
   ],
   "source": [
    "enn.generate_models()"
   ]
  },
  {
   "cell_type": "code",
   "execution_count": 19,
   "id": "ccdc5fbe",
   "metadata": {
    "execution": {
     "iopub.execute_input": "2023-11-23T17:20:37.952137Z",
     "iopub.status.busy": "2023-11-23T17:20:37.951293Z",
     "iopub.status.idle": "2023-11-23T17:20:37.956082Z",
     "shell.execute_reply": "2023-11-23T17:20:37.955152Z"
    },
    "papermill": {
     "duration": 0.097586,
     "end_time": "2023-11-23T17:20:37.957928",
     "exception": false,
     "start_time": "2023-11-23T17:20:37.860342",
     "status": "completed"
    },
    "tags": []
   },
   "outputs": [],
   "source": [
    "# if gpus:\n",
    "#     try:\n",
    "#         # Allow GPU memory growth\n",
    "#         for gpu in gpus:\n",
    "#             tf.config.experimental.set_memory_growth(gpu, True)\n",
    "# #             break\n",
    "\n",
    "#         # Explicitly specify the GPU device\n",
    "#         with tf.device('/GPU:0'):\n",
    "#             # Your TensorFlow code here\n",
    "#             # This block will run on the GPU\n",
    "#             model.fit(train_x, train_y, epochs=8, batch_size=64, validation_split=0.1)\n",
    "#             print(\"GPU is available and used.\")\n",
    "            \n",
    "#     except RuntimeError as e:\n",
    "#         print(e)\n",
    "# else:\n",
    "#     print(\"No GPU available.\")\n"
   ]
  },
  {
   "cell_type": "code",
   "execution_count": 20,
   "id": "b261b7fb",
   "metadata": {
    "execution": {
     "iopub.execute_input": "2023-11-23T17:20:38.139542Z",
     "iopub.status.busy": "2023-11-23T17:20:38.139155Z",
     "iopub.status.idle": "2023-11-23T17:20:38.143613Z",
     "shell.execute_reply": "2023-11-23T17:20:38.142784Z"
    },
    "papermill": {
     "duration": 0.097434,
     "end_time": "2023-11-23T17:20:38.145475",
     "exception": false,
     "start_time": "2023-11-23T17:20:38.048041",
     "status": "completed"
    },
    "tags": []
   },
   "outputs": [],
   "source": [
    "# essay_test = enn.tfidf_transform(test_x).toarray()\n",
    "# loss, accuracy = model.evaluate(essay_test, test_y)\n",
    "# print(f\"Test Loss: {loss}, Test Accuracy: {accuracy}\")"
   ]
  },
  {
   "cell_type": "code",
   "execution_count": 21,
   "id": "0b21bfaf",
   "metadata": {
    "execution": {
     "iopub.execute_input": "2023-11-23T17:20:38.328768Z",
     "iopub.status.busy": "2023-11-23T17:20:38.328409Z",
     "iopub.status.idle": "2023-11-23T17:20:38.332557Z",
     "shell.execute_reply": "2023-11-23T17:20:38.331625Z"
    },
    "papermill": {
     "duration": 0.09927,
     "end_time": "2023-11-23T17:20:38.334661",
     "exception": false,
     "start_time": "2023-11-23T17:20:38.235391",
     "status": "completed"
    },
    "tags": []
   },
   "outputs": [],
   "source": [
    "# # Make predictions\n",
    "# predictions = model.predict(essay_test)\n",
    "\n",
    "# # Evaluate accuracy\n",
    "# accuracy = accuracy_score(test_y, predictions)\n",
    "# print(f'Accuracy: {accuracy:.2f}')\n",
    "\n",
    "# # Display classification report\n",
    "# print(classification_report(test_y, predictions))"
   ]
  },
  {
   "cell_type": "code",
   "execution_count": 22,
   "id": "b1881dd5",
   "metadata": {
    "execution": {
     "iopub.execute_input": "2023-11-23T17:20:38.518724Z",
     "iopub.status.busy": "2023-11-23T17:20:38.517719Z",
     "iopub.status.idle": "2023-11-23T17:20:38.523660Z",
     "shell.execute_reply": "2023-11-23T17:20:38.522711Z"
    },
    "papermill": {
     "duration": 0.099991,
     "end_time": "2023-11-23T17:20:38.525574",
     "exception": false,
     "start_time": "2023-11-23T17:20:38.425583",
     "status": "completed"
    },
    "tags": []
   },
   "outputs": [],
   "source": [
    "test_essays = enn.tfidf_transform(test_essays_base['text']).toarray()"
   ]
  },
  {
   "cell_type": "code",
   "execution_count": 23,
   "id": "e6b4b4d1",
   "metadata": {
    "execution": {
     "iopub.execute_input": "2023-11-23T17:20:38.709227Z",
     "iopub.status.busy": "2023-11-23T17:20:38.708457Z",
     "iopub.status.idle": "2023-11-23T17:20:39.171128Z",
     "shell.execute_reply": "2023-11-23T17:20:39.170279Z"
    },
    "papermill": {
     "duration": 0.556842,
     "end_time": "2023-11-23T17:20:39.173481",
     "exception": false,
     "start_time": "2023-11-23T17:20:38.616639",
     "status": "completed"
    },
    "tags": []
   },
   "outputs": [
    {
     "name": "stdout",
     "output_type": "stream",
     "text": [
      "1/1 [==============================] - 0s 96ms/step\n",
      "1/1 [==============================] - 0s 60ms/step\n",
      "1/1 [==============================] - 0s 59ms/step\n",
      "1/1 [==============================] - 0s 62ms/step\n"
     ]
    }
   ],
   "source": [
    "res = enn.predict(test_essays)"
   ]
  },
  {
   "cell_type": "code",
   "execution_count": 24,
   "id": "b9d0bd3b",
   "metadata": {
    "execution": {
     "iopub.execute_input": "2023-11-23T17:20:39.360425Z",
     "iopub.status.busy": "2023-11-23T17:20:39.360012Z",
     "iopub.status.idle": "2023-11-23T17:20:39.367288Z",
     "shell.execute_reply": "2023-11-23T17:20:39.365868Z"
    },
    "papermill": {
     "duration": 0.103986,
     "end_time": "2023-11-23T17:20:39.369519",
     "exception": false,
     "start_time": "2023-11-23T17:20:39.265533",
     "status": "completed"
    },
    "tags": []
   },
   "outputs": [
    {
     "name": "stderr",
     "output_type": "stream",
     "text": [
      "/tmp/ipykernel_26/4081722939.py:2: SettingWithCopyWarning: \n",
      "A value is trying to be set on a copy of a slice from a DataFrame.\n",
      "Try using .loc[row_indexer,col_indexer] = value instead\n",
      "\n",
      "See the caveats in the documentation: https://pandas.pydata.org/pandas-docs/stable/user_guide/indexing.html#returning-a-view-versus-a-copy\n",
      "  submission['generated'] = res\n"
     ]
    }
   ],
   "source": [
    "submission = test_essays_base[['id']]\n",
    "submission['generated'] = res"
   ]
  },
  {
   "cell_type": "code",
   "execution_count": 25,
   "id": "790a3839",
   "metadata": {
    "execution": {
     "iopub.execute_input": "2023-11-23T17:20:39.555295Z",
     "iopub.status.busy": "2023-11-23T17:20:39.554910Z",
     "iopub.status.idle": "2023-11-23T17:20:39.560723Z",
     "shell.execute_reply": "2023-11-23T17:20:39.559873Z"
    },
    "papermill": {
     "duration": 0.101847,
     "end_time": "2023-11-23T17:20:39.563435",
     "exception": false,
     "start_time": "2023-11-23T17:20:39.461588",
     "status": "completed"
    },
    "tags": []
   },
   "outputs": [
    {
     "name": "stderr",
     "output_type": "stream",
     "text": [
      "/tmp/ipykernel_26/3021702422.py:1: SettingWithCopyWarning: \n",
      "A value is trying to be set on a copy of a slice from a DataFrame.\n",
      "Try using .loc[row_indexer,col_indexer] = value instead\n",
      "\n",
      "See the caveats in the documentation: https://pandas.pydata.org/pandas-docs/stable/user_guide/indexing.html#returning-a-view-versus-a-copy\n",
      "  submission['generated'] = submission['generated'].apply(lambda a: (int(a)*10 + int(((a%1)*10)))/10)\n"
     ]
    }
   ],
   "source": [
    "submission['generated'] = submission['generated'].apply(lambda a: (int(a)*10 + int(((a%1)*10)))/10)"
   ]
  },
  {
   "cell_type": "code",
   "execution_count": 26,
   "id": "27123db5",
   "metadata": {
    "execution": {
     "iopub.execute_input": "2023-11-23T17:20:39.748969Z",
     "iopub.status.busy": "2023-11-23T17:20:39.748601Z",
     "iopub.status.idle": "2023-11-23T17:20:39.756007Z",
     "shell.execute_reply": "2023-11-23T17:20:39.755265Z"
    },
    "papermill": {
     "duration": 0.103542,
     "end_time": "2023-11-23T17:20:39.758090",
     "exception": false,
     "start_time": "2023-11-23T17:20:39.654548",
     "status": "completed"
    },
    "tags": []
   },
   "outputs": [],
   "source": [
    "submission.to_csv('submission.csv', index=False)"
   ]
  },
  {
   "cell_type": "code",
   "execution_count": null,
   "id": "a4633fb9",
   "metadata": {
    "papermill": {
     "duration": 0.091357,
     "end_time": "2023-11-23T17:20:39.943557",
     "exception": false,
     "start_time": "2023-11-23T17:20:39.852200",
     "status": "completed"
    },
    "tags": []
   },
   "outputs": [],
   "source": []
  }
 ],
 "metadata": {
  "kaggle": {
   "accelerator": "gpu",
   "dataSources": [
    {
     "databundleVersionId": 6888007,
     "sourceId": 61542,
     "sourceType": "competition"
    },
    {
     "datasetId": 3946973,
     "sourceId": 6867914,
     "sourceType": "datasetVersion"
    },
    {
     "datasetId": 3942644,
     "sourceId": 6890527,
     "sourceType": "datasetVersion"
    },
    {
     "datasetId": 3961875,
     "sourceId": 6971638,
     "sourceType": "datasetVersion"
    },
    {
     "datasetId": 4005256,
     "sourceId": 6977472,
     "sourceType": "datasetVersion"
    }
   ],
   "dockerImageVersionId": 30579,
   "isGpuEnabled": true,
   "isInternetEnabled": false,
   "language": "python",
   "sourceType": "notebook"
  },
  "kernelspec": {
   "display_name": "Python 3",
   "language": "python",
   "name": "python3"
  },
  "language_info": {
   "codemirror_mode": {
    "name": "ipython",
    "version": 3
   },
   "file_extension": ".py",
   "mimetype": "text/x-python",
   "name": "python",
   "nbconvert_exporter": "python",
   "pygments_lexer": "ipython3",
   "version": "3.10.12"
  },
  "papermill": {
   "default_parameters": {},
   "duration": 167.645287,
   "end_time": "2023-11-23T17:20:43.738718",
   "environment_variables": {},
   "exception": null,
   "input_path": "__notebook__.ipynb",
   "output_path": "__notebook__.ipynb",
   "parameters": {},
   "start_time": "2023-11-23T17:17:56.093431",
   "version": "2.4.0"
  }
 },
 "nbformat": 4,
 "nbformat_minor": 5
}
