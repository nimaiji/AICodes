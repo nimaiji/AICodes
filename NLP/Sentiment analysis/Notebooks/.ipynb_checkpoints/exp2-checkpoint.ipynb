{
 "cells": [
  {
   "cell_type": "code",
   "execution_count": 1,
   "id": "727d4380-d523-4b24-8456-52a454f4399e",
   "metadata": {},
   "outputs": [],
   "source": [
    "import numpy as np\n",
    "import pandas as pd\n",
    "import matplotlib.pyplot as plt\n",
    "from sklearn.feature_extraction.text import CountVectorizer, TfidfVectorizer, HashingVectorizer\n",
    "from util import CorpusLoader, TextNormalizer\n",
    "from sklearn.ensemble import RandomForestClassifier"
   ]
  },
  {
   "cell_type": "code",
   "execution_count": 2,
   "id": "9996144e-cc48-45b1-aea0-f1928c0f0a6b",
   "metadata": {},
   "outputs": [
    {
     "data": {
      "text/html": [
       "<div>\n",
       "<style scoped>\n",
       "    .dataframe tbody tr th:only-of-type {\n",
       "        vertical-align: middle;\n",
       "    }\n",
       "\n",
       "    .dataframe tbody tr th {\n",
       "        vertical-align: top;\n",
       "    }\n",
       "\n",
       "    .dataframe thead th {\n",
       "        text-align: right;\n",
       "    }\n",
       "</style>\n",
       "<table border=\"1\" class=\"dataframe\">\n",
       "  <thead>\n",
       "    <tr style=\"text-align: right;\">\n",
       "      <th></th>\n",
       "      <th>category</th>\n",
       "      <th>headline</th>\n",
       "      <th>authors</th>\n",
       "      <th>link</th>\n",
       "      <th>short_description</th>\n",
       "      <th>date</th>\n",
       "    </tr>\n",
       "  </thead>\n",
       "  <tbody>\n",
       "    <tr>\n",
       "      <th>0</th>\n",
       "      <td>CRIME</td>\n",
       "      <td>There Were 2 Mass Shootings In Texas Last Week...</td>\n",
       "      <td>Melissa Jeltsen</td>\n",
       "      <td>https://www.huffingtonpost.com/entry/texas-ama...</td>\n",
       "      <td>She left her husband. He killed their children...</td>\n",
       "      <td>2018-05-26</td>\n",
       "    </tr>\n",
       "    <tr>\n",
       "      <th>1</th>\n",
       "      <td>ENTERTAINMENT</td>\n",
       "      <td>Will Smith Joins Diplo And Nicky Jam For The 2...</td>\n",
       "      <td>Andy McDonald</td>\n",
       "      <td>https://www.huffingtonpost.com/entry/will-smit...</td>\n",
       "      <td>Of course it has a song.</td>\n",
       "      <td>2018-05-26</td>\n",
       "    </tr>\n",
       "    <tr>\n",
       "      <th>2</th>\n",
       "      <td>ENTERTAINMENT</td>\n",
       "      <td>Hugh Grant Marries For The First Time At Age 57</td>\n",
       "      <td>Ron Dicker</td>\n",
       "      <td>https://www.huffingtonpost.com/entry/hugh-gran...</td>\n",
       "      <td>The actor and his longtime girlfriend Anna Ebe...</td>\n",
       "      <td>2018-05-26</td>\n",
       "    </tr>\n",
       "    <tr>\n",
       "      <th>3</th>\n",
       "      <td>ENTERTAINMENT</td>\n",
       "      <td>Jim Carrey Blasts 'Castrato' Adam Schiff And D...</td>\n",
       "      <td>Ron Dicker</td>\n",
       "      <td>https://www.huffingtonpost.com/entry/jim-carre...</td>\n",
       "      <td>The actor gives Dems an ass-kicking for not fi...</td>\n",
       "      <td>2018-05-26</td>\n",
       "    </tr>\n",
       "    <tr>\n",
       "      <th>4</th>\n",
       "      <td>ENTERTAINMENT</td>\n",
       "      <td>Julianna Margulies Uses Donald Trump Poop Bags...</td>\n",
       "      <td>Ron Dicker</td>\n",
       "      <td>https://www.huffingtonpost.com/entry/julianna-...</td>\n",
       "      <td>The \"Dietland\" actress said using the bags is ...</td>\n",
       "      <td>2018-05-26</td>\n",
       "    </tr>\n",
       "  </tbody>\n",
       "</table>\n",
       "</div>"
      ],
      "text/plain": [
       "        category                                           headline  \\\n",
       "0          CRIME  There Were 2 Mass Shootings In Texas Last Week...   \n",
       "1  ENTERTAINMENT  Will Smith Joins Diplo And Nicky Jam For The 2...   \n",
       "2  ENTERTAINMENT    Hugh Grant Marries For The First Time At Age 57   \n",
       "3  ENTERTAINMENT  Jim Carrey Blasts 'Castrato' Adam Schiff And D...   \n",
       "4  ENTERTAINMENT  Julianna Margulies Uses Donald Trump Poop Bags...   \n",
       "\n",
       "           authors                                               link  \\\n",
       "0  Melissa Jeltsen  https://www.huffingtonpost.com/entry/texas-ama...   \n",
       "1    Andy McDonald  https://www.huffingtonpost.com/entry/will-smit...   \n",
       "2       Ron Dicker  https://www.huffingtonpost.com/entry/hugh-gran...   \n",
       "3       Ron Dicker  https://www.huffingtonpost.com/entry/jim-carre...   \n",
       "4       Ron Dicker  https://www.huffingtonpost.com/entry/julianna-...   \n",
       "\n",
       "                                   short_description       date  \n",
       "0  She left her husband. He killed their children... 2018-05-26  \n",
       "1                           Of course it has a song. 2018-05-26  \n",
       "2  The actor and his longtime girlfriend Anna Ebe... 2018-05-26  \n",
       "3  The actor gives Dems an ass-kicking for not fi... 2018-05-26  \n",
       "4  The \"Dietland\" actress said using the bags is ... 2018-05-26  "
      ]
     },
     "execution_count": 2,
     "metadata": {},
     "output_type": "execute_result"
    }
   ],
   "source": [
    "corpus = CorpusLoader('../datasets/News_dataset/fixed_dataset.json',is_json=True)\n",
    "df = corpus.df\n",
    "df.head(2)"
   ]
  },
  {
   "cell_type": "code",
   "execution_count": 3,
   "id": "b39ef5aa-50b7-45de-a871-1c13cf2ff30f",
   "metadata": {},
   "outputs": [
    {
     "data": {
      "text/plain": [
       "category             object\n",
       "headline             object\n",
       "short_description    object\n",
       "dtype: object"
      ]
     },
     "execution_count": 3,
     "metadata": {},
     "output_type": "execute_result"
    }
   ],
   "source": [
    "df.drop(['authors','link','date'],axis=1,inplace=True)\n",
    "df.dtypes"
   ]
  },
  {
   "cell_type": "code",
   "execution_count": 4,
   "id": "b353c7ca-f5fc-45fa-8411-8d21eaf97886",
   "metadata": {},
   "outputs": [
    {
     "data": {
      "text/plain": [
       "category             category\n",
       "headline               object\n",
       "short_description      object\n",
       "dtype: object"
      ]
     },
     "execution_count": 4,
     "metadata": {},
     "output_type": "execute_result"
    }
   ],
   "source": [
    "df.category = df.category.astype('category')\n",
    "df.dtypes"
   ]
  },
  {
   "cell_type": "code",
   "execution_count": 5,
   "id": "7a57168b-7e70-402f-963d-b41290d00952",
   "metadata": {},
   "outputs": [
    {
     "data": {
      "text/plain": [
       "40"
      ]
     },
     "execution_count": 5,
     "metadata": {},
     "output_type": "execute_result"
    }
   ],
   "source": [
    "df['cat_code'] = df.category.cat.codes\n",
    "df['cat_code'].max() # our dataset has 40 different categories"
   ]
  },
  {
   "cell_type": "code",
   "execution_count": 6,
   "id": "60eabe2c-6ffd-46a0-88cd-2c0fcd9fe219",
   "metadata": {},
   "outputs": [],
   "source": [
    "normalizer = TextNormalizer()\n",
    "headline_norm = normalizer.transform(df.headline)\n",
    "description_norm = normalizer.transform(df['short_description'])"
   ]
  },
  {
   "cell_type": "code",
   "execution_count": 7,
   "id": "19b66108-9d57-48c1-b75a-5f6f16a36595",
   "metadata": {},
   "outputs": [],
   "source": [
    "vectorizer = CountVectorizer(min_df=5,max_df=0.6,max_features=2000)\n",
    "headline_vec = vectorizer.fit_transform(headline_norm)\n",
    "description_vec = vectorizer.fit_transform(description_norm)"
   ]
  },
  {
   "cell_type": "code",
   "execution_count": 8,
   "id": "cef2a267-e846-4c68-9f07-0393679961f6",
   "metadata": {},
   "outputs": [],
   "source": [
    "from sklearn.model_selection import KFold\n",
    "from sklearn.linear_model import SGDClassifier\n",
    "from sklearn.metrics import accuracy_score\n",
    "\n",
    "def trainer(model, X, y, folds):\n",
    "    count = 1\n",
    "    for train_idx, test_idx in folds.split(X):\n",
    "        X_train, X_test = X[train_idx], X[test_idx]\n",
    "        y_train, y_test = y[train_idx], y[test_idx]\n",
    "        model.fit(X_train,y_train)\n",
    "        y_pred = model.predict(X_test)\n",
    "        acc = accuracy_score(y_pred, y_test)\n",
    "        print('Split:',count,'Accuracy:',acc)\n",
    "        count += 1\n",
    "    return model"
   ]
  },
  {
   "cell_type": "code",
   "execution_count": 9,
   "id": "929605b6-e903-4957-b3af-105322536690",
   "metadata": {},
   "outputs": [],
   "source": [
    "X = headline_vec\n",
    "X2 = description_vec\n",
    "y = df['cat_code']\n",
    "folds = KFold(n_splits=7, shuffle=True)\n",
    "clf = RandomForestClassifier(max_depth=7) # Bad efficiency in this problem "
   ]
  },
  {
   "cell_type": "code",
   "execution_count": 10,
   "id": "888ae08d-d946-43e5-a2cf-fbb5066fa0ca",
   "metadata": {},
   "outputs": [
    {
     "name": "stdout",
     "output_type": "stream",
     "text": [
      "Split: 1 Accuracy: 0.4842127273994563\n",
      "Split: 2 Accuracy: 0.4781138914058688\n",
      "Split: 3 Accuracy: 0.480848987557941\n",
      "Split: 4 Accuracy: 0.48454326839298784\n",
      "Split: 5 Accuracy: 0.4776774823127592\n",
      "Split: 6 Accuracy: 0.480848987557941\n",
      "Split: 7 Accuracy: 0.4815460216777611\n"
     ]
    },
    {
     "data": {
      "text/plain": [
       "SGDClassifier()"
      ]
     },
     "execution_count": 10,
     "metadata": {},
     "output_type": "execute_result"
    }
   ],
   "source": [
    "trainer(SGDClassifier(),X,y,folds)"
   ]
  },
  {
   "cell_type": "code",
   "execution_count": 11,
   "id": "3145803c-3eac-4239-b0e1-87bc568636ca",
   "metadata": {},
   "outputs": [
    {
     "name": "stdout",
     "output_type": "stream",
     "text": [
      "Split: 1 Accuracy: 0.35460374991287374\n",
      "Split: 2 Accuracy: 0.3671150763225762\n",
      "Split: 3 Accuracy: 0.36531558219774857\n",
      "Split: 4 Accuracy: 0.36894015962081345\n",
      "Split: 5 Accuracy: 0.36301536960234204\n",
      "Split: 6 Accuracy: 0.37280869898581537\n",
      "Split: 7 Accuracy: 0.3610636740668456\n"
     ]
    },
    {
     "data": {
      "text/plain": [
       "SGDClassifier()"
      ]
     },
     "execution_count": 11,
     "metadata": {},
     "output_type": "execute_result"
    }
   ],
   "source": [
    "trainer(SGDClassifier(),X2,y,folds)"
   ]
  },
  {
   "cell_type": "code",
   "execution_count": 12,
   "id": "cf56cb03-acee-4de8-a981-ae3589b6df61",
   "metadata": {},
   "outputs": [],
   "source": [
    "vectorizer_tfidf = TfidfVectorizer()\n",
    "headline_tfidf = vectorizer_tfidf.fit_transform(headline_norm)"
   ]
  },
  {
   "cell_type": "code",
   "execution_count": 13,
   "id": "bb9747af-2d8f-4ce1-b9bc-7152a7328df5",
   "metadata": {},
   "outputs": [
    {
     "name": "stdout",
     "output_type": "stream",
     "text": [
      "Split: 1 Accuracy: 0.5396947096954067\n",
      "Split: 2 Accuracy: 0.5453056388095072\n",
      "Split: 3 Accuracy: 0.5471369323528387\n",
      "Split: 4 Accuracy: 0.5405499599205381\n",
      "Split: 5 Accuracy: 0.5442093890495939\n",
      "Split: 6 Accuracy: 0.5478339664726588\n",
      "Split: 7 Accuracy: 0.5420485832781514\n"
     ]
    },
    {
     "data": {
      "text/plain": [
       "SGDClassifier()"
      ]
     },
     "execution_count": 13,
     "metadata": {},
     "output_type": "execute_result"
    }
   ],
   "source": [
    "trainer(SGDClassifier(),headline_tfidf,y,folds)"
   ]
  },
  {
   "cell_type": "code",
   "execution_count": 14,
   "id": "64f92384-2e16-4e22-887b-458d93bb9229",
   "metadata": {},
   "outputs": [
    {
     "name": "stderr",
     "output_type": "stream",
     "text": [
      "/Users/nima/opt/anaconda3/lib/python3.8/site-packages/sklearn/utils/validation.py:70: FutureWarning: Pass input=1024 as keyword args. From version 1.0 (renaming of 0.25) passing these as positional arguments will result in an error\n",
      "  warnings.warn(f\"Pass {args_msg} as keyword args. From version \"\n"
     ]
    }
   ],
   "source": [
    "vectorizer_hash = HashingVectorizer(2**10)\n",
    "headline_hash = vectorizer_hash.fit_transform(headline_norm)"
   ]
  },
  {
   "cell_type": "code",
   "execution_count": 15,
   "id": "d6e49a8a-8c4c-443a-b891-9b7c2934a46a",
   "metadata": {},
   "outputs": [
    {
     "name": "stdout",
     "output_type": "stream",
     "text": [
      "Split: 1 Accuracy: 0.537150623823796\n",
      "Split: 2 Accuracy: 0.5373597267721475\n",
      "Split: 3 Accuracy: 0.5365420137315722\n",
      "Split: 4 Accuracy: 0.5389467814449518\n",
      "Split: 5 Accuracy: 0.536019238141707\n",
      "Split: 6 Accuracy: 0.540062036036664\n",
      "Split: 7 Accuracy: 0.5425713588680166\n"
     ]
    },
    {
     "data": {
      "text/plain": [
       "SGDClassifier()"
      ]
     },
     "execution_count": 15,
     "metadata": {},
     "output_type": "execute_result"
    }
   ],
   "source": [
    "trainer(SGDClassifier(),headline_hash,y,folds)"
   ]
  },
  {
   "cell_type": "code",
   "execution_count": null,
   "id": "d628ecda-0f00-4276-9a48-e09fbec81df3",
   "metadata": {},
   "outputs": [],
   "source": []
  }
 ],
 "metadata": {
  "kernelspec": {
   "display_name": "Python 3",
   "language": "python",
   "name": "python3"
  },
  "language_info": {
   "codemirror_mode": {
    "name": "ipython",
    "version": 3
   },
   "file_extension": ".py",
   "mimetype": "text/x-python",
   "name": "python",
   "nbconvert_exporter": "python",
   "pygments_lexer": "ipython3",
   "version": "3.8.8"
  }
 },
 "nbformat": 4,
 "nbformat_minor": 5
}
